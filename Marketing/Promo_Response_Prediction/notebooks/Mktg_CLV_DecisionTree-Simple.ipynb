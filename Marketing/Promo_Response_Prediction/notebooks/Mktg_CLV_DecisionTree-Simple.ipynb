{
 "cells": [
  {
   "cell_type": "code",
   "execution_count": 25,
   "metadata": {
    "collapsed": true
   },
   "outputs": [],
   "source": [
    "#import libraries\n",
    "import numpy as np\n",
    "import pandas as pd\n",
    "\n",
    "import seaborn as sns\n",
    "%matplotlib inline"
   ]
  },
  {
   "cell_type": "code",
   "execution_count": 26,
   "metadata": {
    "collapsed": true
   },
   "outputs": [],
   "source": [
    "df_clv = pd.read_csv(\"CLV_Analysis_Dataset.csv\")"
   ]
  },
  {
   "cell_type": "code",
   "execution_count": 27,
   "metadata": {
    "collapsed": false
   },
   "outputs": [
    {
     "data": {
      "text/plain": [
       "Index(['Customer', 'State', 'Customer Lifetime Value', 'Response', 'Coverage',\n",
       "       'Education', 'Effective To Date', 'EmploymentStatus', 'Gender',\n",
       "       'Income', 'Location Code', 'Marital Status', 'Monthly Premium Auto',\n",
       "       'Months Since Last Claim', 'Months Since Policy Inception',\n",
       "       'Number of Open Complaints', 'Number of Policies', 'Policy Type',\n",
       "       'Policy', 'Renew Offer Type', 'Sales Channel', 'Total Claim Amount',\n",
       "       'Vehicle Class', 'Vehicle Size'],\n",
       "      dtype='object')"
      ]
     },
     "execution_count": 27,
     "metadata": {},
     "output_type": "execute_result"
    }
   ],
   "source": [
    "df_clv.columns"
   ]
  },
  {
   "cell_type": "code",
   "execution_count": 28,
   "metadata": {
    "collapsed": false
   },
   "outputs": [
    {
     "name": "stdout",
     "output_type": "stream",
     "text": [
      "<class 'pandas.core.frame.DataFrame'>\n",
      "RangeIndex: 9134 entries, 0 to 9133\n",
      "Data columns (total 24 columns):\n",
      "Customer                         9134 non-null object\n",
      "State                            9134 non-null object\n",
      "Customer Lifetime Value          9134 non-null float64\n",
      "Response                         9134 non-null object\n",
      "Coverage                         9134 non-null object\n",
      "Education                        9134 non-null object\n",
      "Effective To Date                9134 non-null object\n",
      "EmploymentStatus                 9134 non-null object\n",
      "Gender                           9134 non-null object\n",
      "Income                           9134 non-null int64\n",
      "Location Code                    9134 non-null object\n",
      "Marital Status                   9134 non-null object\n",
      "Monthly Premium Auto             9134 non-null int64\n",
      "Months Since Last Claim          9134 non-null int64\n",
      "Months Since Policy Inception    9134 non-null int64\n",
      "Number of Open Complaints        9134 non-null int64\n",
      "Number of Policies               9134 non-null int64\n",
      "Policy Type                      9134 non-null object\n",
      "Policy                           9134 non-null object\n",
      "Renew Offer Type                 9134 non-null object\n",
      "Sales Channel                    9134 non-null object\n",
      "Total Claim Amount               9134 non-null float64\n",
      "Vehicle Class                    9134 non-null object\n",
      "Vehicle Size                     9134 non-null object\n",
      "dtypes: float64(2), int64(6), object(16)\n",
      "memory usage: 1.7+ MB\n"
     ]
    }
   ],
   "source": [
    "df_clv.info()"
   ]
  },
  {
   "cell_type": "code",
   "execution_count": 29,
   "metadata": {
    "collapsed": false
   },
   "outputs": [
    {
     "data": {
      "text/html": [
       "<div>\n",
       "<style>\n",
       "    .dataframe thead tr:only-child th {\n",
       "        text-align: right;\n",
       "    }\n",
       "\n",
       "    .dataframe thead th {\n",
       "        text-align: left;\n",
       "    }\n",
       "\n",
       "    .dataframe tbody tr th {\n",
       "        vertical-align: top;\n",
       "    }\n",
       "</style>\n",
       "<table border=\"1\" class=\"dataframe\">\n",
       "  <thead>\n",
       "    <tr style=\"text-align: right;\">\n",
       "      <th></th>\n",
       "      <th>Customer</th>\n",
       "      <th>State</th>\n",
       "      <th>Customer Lifetime Value</th>\n",
       "      <th>Response</th>\n",
       "      <th>Coverage</th>\n",
       "      <th>Education</th>\n",
       "      <th>Effective To Date</th>\n",
       "      <th>EmploymentStatus</th>\n",
       "      <th>Gender</th>\n",
       "      <th>Income</th>\n",
       "      <th>...</th>\n",
       "      <th>Months Since Policy Inception</th>\n",
       "      <th>Number of Open Complaints</th>\n",
       "      <th>Number of Policies</th>\n",
       "      <th>Policy Type</th>\n",
       "      <th>Policy</th>\n",
       "      <th>Renew Offer Type</th>\n",
       "      <th>Sales Channel</th>\n",
       "      <th>Total Claim Amount</th>\n",
       "      <th>Vehicle Class</th>\n",
       "      <th>Vehicle Size</th>\n",
       "    </tr>\n",
       "  </thead>\n",
       "  <tbody>\n",
       "    <tr>\n",
       "      <th>0</th>\n",
       "      <td>BU79786</td>\n",
       "      <td>Washington</td>\n",
       "      <td>2763.519279</td>\n",
       "      <td>No</td>\n",
       "      <td>Basic</td>\n",
       "      <td>Bachelor</td>\n",
       "      <td>2/24/11</td>\n",
       "      <td>Employed</td>\n",
       "      <td>F</td>\n",
       "      <td>56274</td>\n",
       "      <td>...</td>\n",
       "      <td>5</td>\n",
       "      <td>0</td>\n",
       "      <td>1</td>\n",
       "      <td>Corporate Auto</td>\n",
       "      <td>Corporate L3</td>\n",
       "      <td>Offer1</td>\n",
       "      <td>Agent</td>\n",
       "      <td>384.811147</td>\n",
       "      <td>Two-Door Car</td>\n",
       "      <td>Medsize</td>\n",
       "    </tr>\n",
       "    <tr>\n",
       "      <th>1</th>\n",
       "      <td>QZ44356</td>\n",
       "      <td>Arizona</td>\n",
       "      <td>6979.535903</td>\n",
       "      <td>No</td>\n",
       "      <td>Extended</td>\n",
       "      <td>Bachelor</td>\n",
       "      <td>1/31/11</td>\n",
       "      <td>Unemployed</td>\n",
       "      <td>F</td>\n",
       "      <td>0</td>\n",
       "      <td>...</td>\n",
       "      <td>42</td>\n",
       "      <td>0</td>\n",
       "      <td>8</td>\n",
       "      <td>Personal Auto</td>\n",
       "      <td>Personal L3</td>\n",
       "      <td>Offer3</td>\n",
       "      <td>Agent</td>\n",
       "      <td>1131.464935</td>\n",
       "      <td>Four-Door Car</td>\n",
       "      <td>Medsize</td>\n",
       "    </tr>\n",
       "    <tr>\n",
       "      <th>2</th>\n",
       "      <td>AI49188</td>\n",
       "      <td>Nevada</td>\n",
       "      <td>12887.431650</td>\n",
       "      <td>No</td>\n",
       "      <td>Premium</td>\n",
       "      <td>Bachelor</td>\n",
       "      <td>2/19/11</td>\n",
       "      <td>Employed</td>\n",
       "      <td>F</td>\n",
       "      <td>48767</td>\n",
       "      <td>...</td>\n",
       "      <td>38</td>\n",
       "      <td>0</td>\n",
       "      <td>2</td>\n",
       "      <td>Personal Auto</td>\n",
       "      <td>Personal L3</td>\n",
       "      <td>Offer1</td>\n",
       "      <td>Agent</td>\n",
       "      <td>566.472247</td>\n",
       "      <td>Two-Door Car</td>\n",
       "      <td>Medsize</td>\n",
       "    </tr>\n",
       "    <tr>\n",
       "      <th>3</th>\n",
       "      <td>WW63253</td>\n",
       "      <td>California</td>\n",
       "      <td>7645.861827</td>\n",
       "      <td>No</td>\n",
       "      <td>Basic</td>\n",
       "      <td>Bachelor</td>\n",
       "      <td>1/20/11</td>\n",
       "      <td>Unemployed</td>\n",
       "      <td>M</td>\n",
       "      <td>0</td>\n",
       "      <td>...</td>\n",
       "      <td>65</td>\n",
       "      <td>0</td>\n",
       "      <td>7</td>\n",
       "      <td>Corporate Auto</td>\n",
       "      <td>Corporate L2</td>\n",
       "      <td>Offer1</td>\n",
       "      <td>Call Center</td>\n",
       "      <td>529.881344</td>\n",
       "      <td>SUV</td>\n",
       "      <td>Medsize</td>\n",
       "    </tr>\n",
       "    <tr>\n",
       "      <th>4</th>\n",
       "      <td>HB64268</td>\n",
       "      <td>Washington</td>\n",
       "      <td>2813.692575</td>\n",
       "      <td>No</td>\n",
       "      <td>Basic</td>\n",
       "      <td>Bachelor</td>\n",
       "      <td>02-03-2011</td>\n",
       "      <td>Employed</td>\n",
       "      <td>M</td>\n",
       "      <td>43836</td>\n",
       "      <td>...</td>\n",
       "      <td>44</td>\n",
       "      <td>0</td>\n",
       "      <td>1</td>\n",
       "      <td>Personal Auto</td>\n",
       "      <td>Personal L1</td>\n",
       "      <td>Offer1</td>\n",
       "      <td>Agent</td>\n",
       "      <td>138.130879</td>\n",
       "      <td>Four-Door Car</td>\n",
       "      <td>Medsize</td>\n",
       "    </tr>\n",
       "  </tbody>\n",
       "</table>\n",
       "<p>5 rows × 24 columns</p>\n",
       "</div>"
      ],
      "text/plain": [
       "  Customer       State  Customer Lifetime Value Response  Coverage Education  \\\n",
       "0  BU79786  Washington              2763.519279       No     Basic  Bachelor   \n",
       "1  QZ44356     Arizona              6979.535903       No  Extended  Bachelor   \n",
       "2  AI49188      Nevada             12887.431650       No   Premium  Bachelor   \n",
       "3  WW63253  California              7645.861827       No     Basic  Bachelor   \n",
       "4  HB64268  Washington              2813.692575       No     Basic  Bachelor   \n",
       "\n",
       "  Effective To Date EmploymentStatus Gender  Income     ...       \\\n",
       "0           2/24/11         Employed      F   56274     ...        \n",
       "1           1/31/11       Unemployed      F       0     ...        \n",
       "2           2/19/11         Employed      F   48767     ...        \n",
       "3           1/20/11       Unemployed      M       0     ...        \n",
       "4        02-03-2011         Employed      M   43836     ...        \n",
       "\n",
       "  Months Since Policy Inception Number of Open Complaints  Number of Policies  \\\n",
       "0                             5                         0                   1   \n",
       "1                            42                         0                   8   \n",
       "2                            38                         0                   2   \n",
       "3                            65                         0                   7   \n",
       "4                            44                         0                   1   \n",
       "\n",
       "      Policy Type        Policy  Renew Offer Type  Sales Channel  \\\n",
       "0  Corporate Auto  Corporate L3            Offer1          Agent   \n",
       "1   Personal Auto   Personal L3            Offer3          Agent   \n",
       "2   Personal Auto   Personal L3            Offer1          Agent   \n",
       "3  Corporate Auto  Corporate L2            Offer1    Call Center   \n",
       "4   Personal Auto   Personal L1            Offer1          Agent   \n",
       "\n",
       "  Total Claim Amount  Vehicle Class Vehicle Size  \n",
       "0         384.811147   Two-Door Car      Medsize  \n",
       "1        1131.464935  Four-Door Car      Medsize  \n",
       "2         566.472247   Two-Door Car      Medsize  \n",
       "3         529.881344            SUV      Medsize  \n",
       "4         138.130879  Four-Door Car      Medsize  \n",
       "\n",
       "[5 rows x 24 columns]"
      ]
     },
     "execution_count": 29,
     "metadata": {},
     "output_type": "execute_result"
    }
   ],
   "source": [
    "df_clv.head()"
   ]
  },
  {
   "cell_type": "code",
   "execution_count": 30,
   "metadata": {
    "collapsed": false
   },
   "outputs": [
    {
     "data": {
      "text/html": [
       "<div>\n",
       "<style>\n",
       "    .dataframe thead tr:only-child th {\n",
       "        text-align: right;\n",
       "    }\n",
       "\n",
       "    .dataframe thead th {\n",
       "        text-align: left;\n",
       "    }\n",
       "\n",
       "    .dataframe tbody tr th {\n",
       "        vertical-align: top;\n",
       "    }\n",
       "</style>\n",
       "<table border=\"1\" class=\"dataframe\">\n",
       "  <thead>\n",
       "    <tr style=\"text-align: right;\">\n",
       "      <th></th>\n",
       "      <th>Customer Lifetime Value</th>\n",
       "      <th>Income</th>\n",
       "      <th>Monthly Premium Auto</th>\n",
       "      <th>Months Since Last Claim</th>\n",
       "      <th>Months Since Policy Inception</th>\n",
       "      <th>Number of Open Complaints</th>\n",
       "      <th>Number of Policies</th>\n",
       "      <th>Total Claim Amount</th>\n",
       "    </tr>\n",
       "  </thead>\n",
       "  <tbody>\n",
       "    <tr>\n",
       "      <th>count</th>\n",
       "      <td>9134.000000</td>\n",
       "      <td>9134.000000</td>\n",
       "      <td>9134.000000</td>\n",
       "      <td>9134.000000</td>\n",
       "      <td>9134.000000</td>\n",
       "      <td>9134.000000</td>\n",
       "      <td>9134.000000</td>\n",
       "      <td>9134.000000</td>\n",
       "    </tr>\n",
       "    <tr>\n",
       "      <th>mean</th>\n",
       "      <td>8004.940475</td>\n",
       "      <td>37657.380009</td>\n",
       "      <td>93.219291</td>\n",
       "      <td>15.097000</td>\n",
       "      <td>48.064594</td>\n",
       "      <td>0.384388</td>\n",
       "      <td>2.966170</td>\n",
       "      <td>434.088794</td>\n",
       "    </tr>\n",
       "    <tr>\n",
       "      <th>std</th>\n",
       "      <td>6870.967608</td>\n",
       "      <td>30379.904734</td>\n",
       "      <td>34.407967</td>\n",
       "      <td>10.073257</td>\n",
       "      <td>27.905991</td>\n",
       "      <td>0.910384</td>\n",
       "      <td>2.390182</td>\n",
       "      <td>290.500092</td>\n",
       "    </tr>\n",
       "    <tr>\n",
       "      <th>min</th>\n",
       "      <td>1898.007675</td>\n",
       "      <td>0.000000</td>\n",
       "      <td>61.000000</td>\n",
       "      <td>0.000000</td>\n",
       "      <td>0.000000</td>\n",
       "      <td>0.000000</td>\n",
       "      <td>1.000000</td>\n",
       "      <td>0.099007</td>\n",
       "    </tr>\n",
       "    <tr>\n",
       "      <th>25%</th>\n",
       "      <td>3994.251794</td>\n",
       "      <td>0.000000</td>\n",
       "      <td>68.000000</td>\n",
       "      <td>6.000000</td>\n",
       "      <td>24.000000</td>\n",
       "      <td>0.000000</td>\n",
       "      <td>1.000000</td>\n",
       "      <td>272.258244</td>\n",
       "    </tr>\n",
       "    <tr>\n",
       "      <th>50%</th>\n",
       "      <td>5780.182197</td>\n",
       "      <td>33889.500000</td>\n",
       "      <td>83.000000</td>\n",
       "      <td>14.000000</td>\n",
       "      <td>48.000000</td>\n",
       "      <td>0.000000</td>\n",
       "      <td>2.000000</td>\n",
       "      <td>383.945434</td>\n",
       "    </tr>\n",
       "    <tr>\n",
       "      <th>75%</th>\n",
       "      <td>8962.167041</td>\n",
       "      <td>62320.000000</td>\n",
       "      <td>109.000000</td>\n",
       "      <td>23.000000</td>\n",
       "      <td>71.000000</td>\n",
       "      <td>0.000000</td>\n",
       "      <td>4.000000</td>\n",
       "      <td>547.514839</td>\n",
       "    </tr>\n",
       "    <tr>\n",
       "      <th>max</th>\n",
       "      <td>83325.381190</td>\n",
       "      <td>99981.000000</td>\n",
       "      <td>298.000000</td>\n",
       "      <td>35.000000</td>\n",
       "      <td>99.000000</td>\n",
       "      <td>5.000000</td>\n",
       "      <td>9.000000</td>\n",
       "      <td>2893.239678</td>\n",
       "    </tr>\n",
       "  </tbody>\n",
       "</table>\n",
       "</div>"
      ],
      "text/plain": [
       "       Customer Lifetime Value        Income  Monthly Premium Auto  \\\n",
       "count              9134.000000   9134.000000           9134.000000   \n",
       "mean               8004.940475  37657.380009             93.219291   \n",
       "std                6870.967608  30379.904734             34.407967   \n",
       "min                1898.007675      0.000000             61.000000   \n",
       "25%                3994.251794      0.000000             68.000000   \n",
       "50%                5780.182197  33889.500000             83.000000   \n",
       "75%                8962.167041  62320.000000            109.000000   \n",
       "max               83325.381190  99981.000000            298.000000   \n",
       "\n",
       "       Months Since Last Claim  Months Since Policy Inception  \\\n",
       "count              9134.000000                    9134.000000   \n",
       "mean                 15.097000                      48.064594   \n",
       "std                  10.073257                      27.905991   \n",
       "min                   0.000000                       0.000000   \n",
       "25%                   6.000000                      24.000000   \n",
       "50%                  14.000000                      48.000000   \n",
       "75%                  23.000000                      71.000000   \n",
       "max                  35.000000                      99.000000   \n",
       "\n",
       "       Number of Open Complaints  Number of Policies  Total Claim Amount  \n",
       "count                9134.000000         9134.000000         9134.000000  \n",
       "mean                    0.384388            2.966170          434.088794  \n",
       "std                     0.910384            2.390182          290.500092  \n",
       "min                     0.000000            1.000000            0.099007  \n",
       "25%                     0.000000            1.000000          272.258244  \n",
       "50%                     0.000000            2.000000          383.945434  \n",
       "75%                     0.000000            4.000000          547.514839  \n",
       "max                     5.000000            9.000000         2893.239678  "
      ]
     },
     "execution_count": 30,
     "metadata": {},
     "output_type": "execute_result"
    }
   ],
   "source": [
    "df_clv.describe()"
   ]
  },
  {
   "cell_type": "code",
   "execution_count": 31,
   "metadata": {
    "collapsed": true
   },
   "outputs": [],
   "source": [
    "# drop the Customer ID column\n",
    "df_clv.drop(['Customer'], axis=1, inplace=True)"
   ]
  },
  {
   "cell_type": "code",
   "execution_count": 32,
   "metadata": {
    "collapsed": true
   },
   "outputs": [],
   "source": [
    "#Change object into categorical variable\n",
    "df_clv['State'] = df_clv['State'].astype('category')\n",
    "df_clv['Response'] = df_clv['Response'].astype('category')\n",
    "df_clv['Coverage'] = df_clv['Coverage'].astype('category')\n",
    "df_clv['Education'] = df_clv['Education'].astype('category')\n",
    "df_clv['Effective To Date'] = df_clv['Effective To Date'].astype('category')\n",
    "df_clv['EmploymentStatus'] = df_clv['EmploymentStatus'].astype('category')\n",
    "df_clv['Gender'] = df_clv['Gender'].astype('category')\n",
    "df_clv['Location Code'] = df_clv['Location Code'].astype('category')\n",
    "df_clv['Marital Status'] = df_clv['Marital Status'].astype('category')\n",
    "df_clv['Policy Type'] = df_clv['Policy Type'].astype('category')\n",
    "df_clv['Policy'] = df_clv['Policy'].astype('category')\n",
    "df_clv['Renew Offer Type'] = df_clv['Renew Offer Type'].astype('category')\n",
    "df_clv['Sales Channel'] = df_clv['Sales Channel'].astype('category')\n",
    "df_clv['Vehicle Class'] = df_clv['Vehicle Class'].astype('category')\n",
    "df_clv['Vehicle Size'] = df_clv['Vehicle Size'].astype('category')"
   ]
  },
  {
   "cell_type": "code",
   "execution_count": 33,
   "metadata": {
    "collapsed": false
   },
   "outputs": [],
   "source": [
    "#Use category codes instead of strings\n",
    "df_clv['State'] = df_clv['State'].cat.codes\n",
    "df_clv['Response'] = df_clv['Response'].cat.codes\n",
    "df_clv['Coverage'] = df_clv['Coverage'].cat.codes\n",
    "df_clv['Education'] = df_clv['Education'].cat.codes\n",
    "df_clv['Effective To Date'] = df_clv['Effective To Date'].cat.codes\n",
    "df_clv['EmploymentStatus'] = df_clv['EmploymentStatus'].cat.codes\n",
    "df_clv['Gender'] = df_clv['Gender'].cat.codes\n",
    "df_clv['Location Code'] = df_clv['Location Code'].cat.codes\n",
    "df_clv['Marital Status'] = df_clv['Marital Status'].cat.codes\n",
    "df_clv['Policy Type'] = df_clv['Policy Type'].cat.codes\n",
    "df_clv['Policy'] = df_clv['Policy'].cat.codes\n",
    "df_clv['Renew Offer Type'] = df_clv['Renew Offer Type'].cat.codes\n",
    "df_clv['Sales Channel'] = df_clv['Sales Channel'].cat.codes\n",
    "df_clv['Vehicle Class'] = df_clv['Vehicle Class'].cat.codes\n",
    "df_clv['Vehicle Size'] = df_clv['Vehicle Size'].cat.codes"
   ]
  },
  {
   "cell_type": "markdown",
   "metadata": {},
   "source": [
    "<b> Model Building </b>"
   ]
  },
  {
   "cell_type": "code",
   "execution_count": 34,
   "metadata": {
    "collapsed": true
   },
   "outputs": [],
   "source": [
    "from sklearn import tree\n",
    "from sklearn.tree import  DecisionTreeClassifier"
   ]
  },
  {
   "cell_type": "code",
   "execution_count": 84,
   "metadata": {
    "collapsed": false
   },
   "outputs": [],
   "source": [
    "from sklearn.model_selection import train_test_split\n",
    "from sklearn import preprocessing\n",
    "\n",
    "from   sklearn                  import  metrics \n",
    "from   sklearn.metrics          import  classification_report, balanced_accuracy_score, accuracy_score, precision_score, recall_score\n",
    "from   sklearn.metrics          import  confusion_matrix\n",
    "from   sklearn.metrics          import  roc_curve, auc\n",
    "from   sklearn.model_selection  import  KFold, cross_val_score\n",
    "from   sklearn.model_selection  import  train_test_split"
   ]
  },
  {
   "cell_type": "code",
   "execution_count": 36,
   "metadata": {
    "collapsed": true
   },
   "outputs": [],
   "source": [
    "X = df_clv[['State','Customer Lifetime Value','Coverage','Education', \n",
    "          'EmploymentStatus', 'Gender', 'Income', 'Location Code','Marital Status', 'Monthly Premium Auto',\n",
    "            'Months Since Last Claim', 'Months Since Policy Inception', 'Number of Open Complaints', 'Number of Policies',\n",
    "           'Policy Type', 'Policy', 'Renew Offer Type', 'Sales Channel', 'Total Claim Amount', 'Vehicle Class', 'Vehicle Size']]\n",
    "y = df_clv[['Response']]"
   ]
  },
  {
   "cell_type": "code",
   "execution_count": 37,
   "metadata": {
    "collapsed": true
   },
   "outputs": [],
   "source": [
    "X_train, X_test, y_train, y_test = train_test_split(X, y, test_size=0.3, random_state=42, stratify = y)"
   ]
  },
  {
   "cell_type": "code",
   "execution_count": 38,
   "metadata": {
    "collapsed": false
   },
   "outputs": [
    {
     "data": {
      "text/plain": [
       "0    2348\n",
       "1     393\n",
       "Name: Response, dtype: int64"
      ]
     },
     "execution_count": 38,
     "metadata": {},
     "output_type": "execute_result"
    }
   ],
   "source": [
    "#This explains stratify=y\n",
    "y_test['Response'].value_counts()"
   ]
  },
  {
   "cell_type": "code",
   "execution_count": 39,
   "metadata": {
    "collapsed": false
   },
   "outputs": [
    {
     "data": {
      "text/plain": [
       "0    5478\n",
       "1     915\n",
       "Name: Response, dtype: int64"
      ]
     },
     "execution_count": 39,
     "metadata": {},
     "output_type": "execute_result"
    }
   ],
   "source": [
    "y_train['Response'].value_counts()"
   ]
  },
  {
   "cell_type": "code",
   "execution_count": 40,
   "metadata": {
    "collapsed": true
   },
   "outputs": [],
   "source": [
    "clf = tree.DecisionTreeClassifier(criterion=\"gini\", max_depth = 4, min_samples_split = 5)"
   ]
  },
  {
   "cell_type": "markdown",
   "metadata": {},
   "source": [
    "**TRAINING**"
   ]
  },
  {
   "cell_type": "code",
   "execution_count": 41,
   "metadata": {
    "collapsed": false
   },
   "outputs": [
    {
     "data": {
      "text/plain": [
       "DecisionTreeClassifier(max_depth=4, min_samples_split=5)"
      ]
     },
     "execution_count": 41,
     "metadata": {},
     "output_type": "execute_result"
    }
   ],
   "source": [
    "clf.fit(X_train,y_train)"
   ]
  },
  {
   "cell_type": "code",
   "execution_count": 42,
   "metadata": {
    "collapsed": false
   },
   "outputs": [],
   "source": [
    "predicted_train = clf.predict(X_train)"
   ]
  },
  {
   "cell_type": "code",
   "execution_count": 43,
   "metadata": {
    "collapsed": false
   },
   "outputs": [
    {
     "name": "stdout",
     "output_type": "stream",
     "text": [
      "Training Data Accuracy: 0.8740810261223213\n",
      "Training Data Precision: 0.8160919540229885\n",
      "Training Data Recall: 0.1551912568306011\n"
     ]
    }
   ],
   "source": [
    "#Metrics\n",
    "#print(\"Training Data Balanced Accuracy:\",metrics.balanced_accuracy_score(y_train, predicted_train))\n",
    "print(\"Training Data Accuracy:\",metrics.accuracy_score(y_train, predicted_train))\n",
    "print(\"Training Data Precision:\",metrics.precision_score(y_train, predicted_train))\n",
    "print(\"Training Data Recall:\",metrics.recall_score(y_train, predicted_train))"
   ]
  },
  {
   "cell_type": "code",
   "execution_count": 44,
   "metadata": {
    "collapsed": false
   },
   "outputs": [
    {
     "name": "stdout",
     "output_type": "stream",
     "text": [
      "\n",
      "Training data\n",
      "              precision    recall  f1-score   support\n",
      "\n",
      "           0       0.88      0.99      0.93      5478\n",
      "           1       0.82      0.16      0.26       915\n",
      "\n",
      "    accuracy                           0.87      6393\n",
      "   macro avg       0.85      0.57      0.60      6393\n",
      "weighted avg       0.87      0.87      0.84      6393\n",
      "\n"
     ]
    }
   ],
   "source": [
    "measures_train     = classification_report(y_train, predicted_train) \n",
    "print(\"\\nTraining data\")\n",
    "print(measures_train) "
   ]
  },
  {
   "cell_type": "markdown",
   "metadata": {},
   "source": [
    "<b> GridSearch </b>"
   ]
  },
  {
   "cell_type": "code",
   "execution_count": 57,
   "metadata": {
    "collapsed": false
   },
   "outputs": [],
   "source": [
    "from sklearn.model_selection import GridSearchCV\n",
    "from sklearn.cross_validation import ShuffleSplit"
   ]
  },
  {
   "cell_type": "code",
   "execution_count": 75,
   "metadata": {
    "collapsed": false
   },
   "outputs": [],
   "source": [
    "dt_range = list(range(1,12))\n",
    "min_sample_split_S = list(range(2,8))\n",
    "params      =   dict(max_depth = dt_range, min_samples_split = min_sample_split_S)\n",
    "cv_sets = ShuffleSplit(X_train.shape[0], n_iter = 10, test_size = 0.20, random_state = 0)\n",
    "scoring_fn = 'accuracy'\n",
    "\n",
    "grid = GridSearchCV(clf, params, cv = cv_sets, scoring=scoring_fn)"
   ]
  },
  {
   "cell_type": "code",
   "execution_count": 76,
   "metadata": {
    "collapsed": false
   },
   "outputs": [
    {
     "data": {
      "text/plain": [
       "GridSearchCV(cv=ShuffleSplit(6393, n_iter=10, test_size=0.2, random_state=0),\n",
       "             estimator=DecisionTreeClassifier(max_depth=4, min_samples_split=5),\n",
       "             param_grid={'max_depth': [1, 2, 3, 4, 5, 6, 7, 8, 9, 10, 11],\n",
       "                         'min_samples_split': [2, 3, 4, 5, 6, 7]},\n",
       "             scoring='accuracy')"
      ]
     },
     "execution_count": 76,
     "metadata": {},
     "output_type": "execute_result"
    }
   ],
   "source": [
    "grid.fit(X_train, y_train)"
   ]
  },
  {
   "cell_type": "code",
   "execution_count": 77,
   "metadata": {
    "collapsed": false
   },
   "outputs": [
    {
     "data": {
      "text/plain": [
       "DecisionTreeClassifier(max_depth=11, min_samples_split=3)"
      ]
     },
     "execution_count": 77,
     "metadata": {},
     "output_type": "execute_result"
    }
   ],
   "source": [
    "grid.best_estimator_"
   ]
  },
  {
   "cell_type": "code",
   "execution_count": 78,
   "metadata": {
    "collapsed": false
   },
   "outputs": [
    {
     "data": {
      "text/plain": [
       "{'mean_fit_time': array([0.0106729 , 0.00903821, 0.00956073, 0.00859237, 0.0090425 ,\n",
       "        0.00890203, 0.01177728, 0.01214128, 0.01174631, 0.01183221,\n",
       "        0.01140342, 0.01144941, 0.01460114, 0.01433475, 0.01447001,\n",
       "        0.01529422, 0.01467373, 0.01445897, 0.01784744, 0.01725311,\n",
       "        0.01716323, 0.01765711, 0.01758068, 0.01692951, 0.02029691,\n",
       "        0.02033756, 0.02070203, 0.01977651, 0.02094696, 0.02055092,\n",
       "        0.02193749, 0.02289572, 0.02296312, 0.02313359, 0.02334573,\n",
       "        0.02282808, 0.02541347, 0.0240032 , 0.02461846, 0.02426288,\n",
       "        0.0248322 , 0.02401872, 0.02548702, 0.02619593, 0.02639401,\n",
       "        0.02606091, 0.02641513, 0.02672145, 0.02766995, 0.02821717,\n",
       "        0.02706175, 0.02726276, 0.02746549, 0.02792087, 0.02922883,\n",
       "        0.02877419, 0.02912421, 0.02875166, 0.02904608, 0.02919803,\n",
       "        0.03021839, 0.02988276, 0.03235235, 0.03047221, 0.02904856,\n",
       "        0.03095067]),\n",
       " 'mean_score_time': array([0.0026638 , 0.00221498, 0.00226216, 0.00219734, 0.00217276,\n",
       "        0.0021086 , 0.0023483 , 0.00229983, 0.00216477, 0.00223227,\n",
       "        0.00213258, 0.00216339, 0.00215292, 0.00214574, 0.00210936,\n",
       "        0.00227659, 0.00217638, 0.00217464, 0.00220315, 0.00217044,\n",
       "        0.00215375, 0.00231242, 0.00213253, 0.00214121, 0.00215819,\n",
       "        0.00224569, 0.00221813, 0.00214193, 0.0023149 , 0.00223989,\n",
       "        0.002108  , 0.00233355, 0.0022994 , 0.00241952, 0.00243185,\n",
       "        0.00232499, 0.00239041, 0.00216062, 0.00225749, 0.00225317,\n",
       "        0.00230682, 0.00226135, 0.00222361, 0.00235298, 0.00232921,\n",
       "        0.00218771, 0.00219734, 0.00228169, 0.00220177, 0.00225387,\n",
       "        0.00220504, 0.00230761, 0.00225425, 0.00241752, 0.00232127,\n",
       "        0.00227821, 0.00222974, 0.00226133, 0.00224288, 0.00228708,\n",
       "        0.00233126, 0.00230229, 0.00253658, 0.00236804, 0.00217252,\n",
       "        0.00235121]),\n",
       " 'mean_test_score': array([0.85152463, 0.85152463, 0.85152463, 0.85152463, 0.85152463,\n",
       "        0.85152463, 0.85152463, 0.85152463, 0.85152463, 0.85152463,\n",
       "        0.85152463, 0.85152463, 0.85934324, 0.85949961, 0.85942142,\n",
       "        0.85942142, 0.8595778 , 0.8595778 , 0.86426896, 0.8640344 ,\n",
       "        0.86419077, 0.86411259, 0.86411259, 0.86419077, 0.86692729,\n",
       "        0.86770915, 0.86724003, 0.86677091, 0.86677091, 0.86692729,\n",
       "        0.8719312 , 0.87224394, 0.87224394, 0.87169664, 0.87138389,\n",
       "        0.87161845, 0.87662236, 0.87670055, 0.8758405 , 0.87615324,\n",
       "        0.87544957, 0.87521501, 0.88084441, 0.88029711, 0.88053167,\n",
       "        0.88021892, 0.87998436, 0.8797498 , 0.88725567, 0.88678655,\n",
       "        0.88725567, 0.88702111, 0.88577013, 0.88623925, 0.89710711,\n",
       "        0.89640344, 0.8943706 , 0.89421423, 0.8938233 , 0.89225958,\n",
       "        0.90414386, 0.9050821 , 0.90445661, 0.90289289, 0.90132916,\n",
       "        0.90039093]),\n",
       " 'param_max_depth': masked_array(data=[1, 1, 1, 1, 1, 1, 2, 2, 2, 2, 2, 2, 3, 3, 3, 3, 3, 3,\n",
       "                    4, 4, 4, 4, 4, 4, 5, 5, 5, 5, 5, 5, 6, 6, 6, 6, 6, 6,\n",
       "                    7, 7, 7, 7, 7, 7, 8, 8, 8, 8, 8, 8, 9, 9, 9, 9, 9, 9,\n",
       "                    10, 10, 10, 10, 10, 10, 11, 11, 11, 11, 11, 11],\n",
       "              mask=[False, False, False, False, False, False, False, False,\n",
       "                    False, False, False, False, False, False, False, False,\n",
       "                    False, False, False, False, False, False, False, False,\n",
       "                    False, False, False, False, False, False, False, False,\n",
       "                    False, False, False, False, False, False, False, False,\n",
       "                    False, False, False, False, False, False, False, False,\n",
       "                    False, False, False, False, False, False, False, False,\n",
       "                    False, False, False, False, False, False, False, False,\n",
       "                    False, False],\n",
       "        fill_value='?',\n",
       "             dtype=object),\n",
       " 'param_min_samples_split': masked_array(data=[2, 3, 4, 5, 6, 7, 2, 3, 4, 5, 6, 7, 2, 3, 4, 5, 6, 7,\n",
       "                    2, 3, 4, 5, 6, 7, 2, 3, 4, 5, 6, 7, 2, 3, 4, 5, 6, 7,\n",
       "                    2, 3, 4, 5, 6, 7, 2, 3, 4, 5, 6, 7, 2, 3, 4, 5, 6, 7,\n",
       "                    2, 3, 4, 5, 6, 7, 2, 3, 4, 5, 6, 7],\n",
       "              mask=[False, False, False, False, False, False, False, False,\n",
       "                    False, False, False, False, False, False, False, False,\n",
       "                    False, False, False, False, False, False, False, False,\n",
       "                    False, False, False, False, False, False, False, False,\n",
       "                    False, False, False, False, False, False, False, False,\n",
       "                    False, False, False, False, False, False, False, False,\n",
       "                    False, False, False, False, False, False, False, False,\n",
       "                    False, False, False, False, False, False, False, False,\n",
       "                    False, False],\n",
       "        fill_value='?',\n",
       "             dtype=object),\n",
       " 'params': [{'max_depth': 1, 'min_samples_split': 2},\n",
       "  {'max_depth': 1, 'min_samples_split': 3},\n",
       "  {'max_depth': 1, 'min_samples_split': 4},\n",
       "  {'max_depth': 1, 'min_samples_split': 5},\n",
       "  {'max_depth': 1, 'min_samples_split': 6},\n",
       "  {'max_depth': 1, 'min_samples_split': 7},\n",
       "  {'max_depth': 2, 'min_samples_split': 2},\n",
       "  {'max_depth': 2, 'min_samples_split': 3},\n",
       "  {'max_depth': 2, 'min_samples_split': 4},\n",
       "  {'max_depth': 2, 'min_samples_split': 5},\n",
       "  {'max_depth': 2, 'min_samples_split': 6},\n",
       "  {'max_depth': 2, 'min_samples_split': 7},\n",
       "  {'max_depth': 3, 'min_samples_split': 2},\n",
       "  {'max_depth': 3, 'min_samples_split': 3},\n",
       "  {'max_depth': 3, 'min_samples_split': 4},\n",
       "  {'max_depth': 3, 'min_samples_split': 5},\n",
       "  {'max_depth': 3, 'min_samples_split': 6},\n",
       "  {'max_depth': 3, 'min_samples_split': 7},\n",
       "  {'max_depth': 4, 'min_samples_split': 2},\n",
       "  {'max_depth': 4, 'min_samples_split': 3},\n",
       "  {'max_depth': 4, 'min_samples_split': 4},\n",
       "  {'max_depth': 4, 'min_samples_split': 5},\n",
       "  {'max_depth': 4, 'min_samples_split': 6},\n",
       "  {'max_depth': 4, 'min_samples_split': 7},\n",
       "  {'max_depth': 5, 'min_samples_split': 2},\n",
       "  {'max_depth': 5, 'min_samples_split': 3},\n",
       "  {'max_depth': 5, 'min_samples_split': 4},\n",
       "  {'max_depth': 5, 'min_samples_split': 5},\n",
       "  {'max_depth': 5, 'min_samples_split': 6},\n",
       "  {'max_depth': 5, 'min_samples_split': 7},\n",
       "  {'max_depth': 6, 'min_samples_split': 2},\n",
       "  {'max_depth': 6, 'min_samples_split': 3},\n",
       "  {'max_depth': 6, 'min_samples_split': 4},\n",
       "  {'max_depth': 6, 'min_samples_split': 5},\n",
       "  {'max_depth': 6, 'min_samples_split': 6},\n",
       "  {'max_depth': 6, 'min_samples_split': 7},\n",
       "  {'max_depth': 7, 'min_samples_split': 2},\n",
       "  {'max_depth': 7, 'min_samples_split': 3},\n",
       "  {'max_depth': 7, 'min_samples_split': 4},\n",
       "  {'max_depth': 7, 'min_samples_split': 5},\n",
       "  {'max_depth': 7, 'min_samples_split': 6},\n",
       "  {'max_depth': 7, 'min_samples_split': 7},\n",
       "  {'max_depth': 8, 'min_samples_split': 2},\n",
       "  {'max_depth': 8, 'min_samples_split': 3},\n",
       "  {'max_depth': 8, 'min_samples_split': 4},\n",
       "  {'max_depth': 8, 'min_samples_split': 5},\n",
       "  {'max_depth': 8, 'min_samples_split': 6},\n",
       "  {'max_depth': 8, 'min_samples_split': 7},\n",
       "  {'max_depth': 9, 'min_samples_split': 2},\n",
       "  {'max_depth': 9, 'min_samples_split': 3},\n",
       "  {'max_depth': 9, 'min_samples_split': 4},\n",
       "  {'max_depth': 9, 'min_samples_split': 5},\n",
       "  {'max_depth': 9, 'min_samples_split': 6},\n",
       "  {'max_depth': 9, 'min_samples_split': 7},\n",
       "  {'max_depth': 10, 'min_samples_split': 2},\n",
       "  {'max_depth': 10, 'min_samples_split': 3},\n",
       "  {'max_depth': 10, 'min_samples_split': 4},\n",
       "  {'max_depth': 10, 'min_samples_split': 5},\n",
       "  {'max_depth': 10, 'min_samples_split': 6},\n",
       "  {'max_depth': 10, 'min_samples_split': 7},\n",
       "  {'max_depth': 11, 'min_samples_split': 2},\n",
       "  {'max_depth': 11, 'min_samples_split': 3},\n",
       "  {'max_depth': 11, 'min_samples_split': 4},\n",
       "  {'max_depth': 11, 'min_samples_split': 5},\n",
       "  {'max_depth': 11, 'min_samples_split': 6},\n",
       "  {'max_depth': 11, 'min_samples_split': 7}],\n",
       " 'rank_test_score': array([55, 55, 55, 55, 55, 55, 55, 55, 55, 55, 55, 55, 54, 51, 53, 52, 49,\n",
       "        49, 43, 48, 44, 46, 46, 44, 39, 37, 38, 42, 41, 40, 33, 31, 31, 34,\n",
       "        36, 35, 26, 25, 28, 27, 29, 30, 19, 21, 20, 22, 23, 24, 13, 16, 13,\n",
       "        15, 18, 17,  7,  8,  9, 10, 11, 12,  3,  1,  2,  4,  5,  6],\n",
       "       dtype=int32),\n",
       " 'split0_test_score': array([0.84910086, 0.84910086, 0.84910086, 0.84910086, 0.84910086,\n",
       "        0.84910086, 0.84910086, 0.84910086, 0.84910086, 0.84910086,\n",
       "        0.84910086, 0.84910086, 0.86395622, 0.8663018 , 0.86395622,\n",
       "        0.8663018 , 0.8663018 , 0.86551994, 0.86786552, 0.86551994,\n",
       "        0.86786552, 0.86786552, 0.86708366, 0.86708366, 0.86864738,\n",
       "        0.86864738, 0.86864738, 0.8663018 , 0.8663018 , 0.86864738,\n",
       "        0.8702111 , 0.87255668, 0.87255668, 0.8702111 , 0.8702111 ,\n",
       "        0.87177482, 0.87646599, 0.87724785, 0.87724785, 0.87802971,\n",
       "        0.87568413, 0.87412041, 0.88272088, 0.88350274, 0.88037529,\n",
       "        0.88193901, 0.88037529, 0.88272088, 0.88975762, 0.88897576,\n",
       "        0.88975762, 0.89053948, 0.89053948, 0.88897576, 0.89992181,\n",
       "        0.90148554, 0.89444879, 0.89523065, 0.89757623, 0.89523065,\n",
       "        0.89992181, 0.89757623, 0.89992181, 0.89444879, 0.89132134,\n",
       "        0.89679437]),\n",
       " 'split1_test_score': array([0.84675528, 0.84675528, 0.84675528, 0.84675528, 0.84675528,\n",
       "        0.84675528, 0.84675528, 0.84675528, 0.84675528, 0.84675528,\n",
       "        0.84675528, 0.84675528, 0.86004691, 0.86004691, 0.86004691,\n",
       "        0.86004691, 0.86004691, 0.86004691, 0.86082877, 0.86082877,\n",
       "        0.86082877, 0.86082877, 0.86082877, 0.86082877, 0.86239249,\n",
       "        0.86239249, 0.86239249, 0.86082877, 0.86239249, 0.86239249,\n",
       "        0.8663018 , 0.86786552, 0.86708366, 0.8663018 , 0.8663018 ,\n",
       "        0.86708366, 0.86864738, 0.86864738, 0.86786552, 0.86864738,\n",
       "        0.86708366, 0.86864738, 0.87881157, 0.87959343, 0.88037529,\n",
       "        0.87959343, 0.87802971, 0.87881157, 0.87881157, 0.87881157,\n",
       "        0.87802971, 0.87959343, 0.87959343, 0.87881157, 0.87959343,\n",
       "        0.87802971, 0.87724785, 0.87255668, 0.87881157, 0.87724785,\n",
       "        0.89288507, 0.89601251, 0.89444879, 0.89288507, 0.89288507,\n",
       "        0.8881939 ]),\n",
       " 'split2_test_score': array([0.84910086, 0.84910086, 0.84910086, 0.84910086, 0.84910086,\n",
       "        0.84910086, 0.84910086, 0.84910086, 0.84910086, 0.84910086,\n",
       "        0.84910086, 0.84910086, 0.84988272, 0.84988272, 0.84988272,\n",
       "        0.84988272, 0.84988272, 0.84988272, 0.85144644, 0.85144644,\n",
       "        0.85144644, 0.85144644, 0.85144644, 0.85144644, 0.85535575,\n",
       "        0.85535575, 0.85535575, 0.85535575, 0.85535575, 0.85535575,\n",
       "        0.86161063, 0.86239249, 0.86239249, 0.86317435, 0.86082877,\n",
       "        0.86004691, 0.86551994, 0.86786552, 0.8663018 , 0.86473808,\n",
       "        0.86239249, 0.86317435, 0.87881157, 0.87412041, 0.87959343,\n",
       "        0.87568413, 0.87724785, 0.87646599, 0.88975762, 0.88975762,\n",
       "        0.89132134, 0.88975762, 0.8881939 , 0.89053948, 0.90070367,\n",
       "        0.89679437, 0.89288507, 0.89601251, 0.89444879, 0.89210321,\n",
       "        0.89210321, 0.89444879, 0.89992181, 0.89523065, 0.89132134,\n",
       "        0.88741204]),\n",
       " 'split3_test_score': array([0.85066458, 0.85066458, 0.85066458, 0.85066458, 0.85066458,\n",
       "        0.85066458, 0.85066458, 0.85066458, 0.85066458, 0.85066458,\n",
       "        0.85066458, 0.85066458, 0.84988272, 0.84988272, 0.85066458,\n",
       "        0.84988272, 0.85066458, 0.85066458, 0.85770133, 0.85770133,\n",
       "        0.85691947, 0.85770133, 0.85770133, 0.85770133, 0.85848319,\n",
       "        0.85926505, 0.85926505, 0.85926505, 0.86004691, 0.85926505,\n",
       "        0.86786552, 0.86708366, 0.8663018 , 0.8663018 , 0.86551994,\n",
       "        0.8663018 , 0.87412041, 0.87490227, 0.87333855, 0.87177482,\n",
       "        0.87177482, 0.87333855, 0.87490227, 0.87255668, 0.87333855,\n",
       "        0.87568413, 0.87333855, 0.87333855, 0.87568413, 0.87568413,\n",
       "        0.87881157, 0.87881157, 0.87568413, 0.87568413, 0.88741204,\n",
       "        0.8881939 , 0.89053948, 0.88975762, 0.88663018, 0.88272088,\n",
       "        0.90852228, 0.910086  , 0.91086787, 0.910086  , 0.9061767 ,\n",
       "        0.90148554]),\n",
       " 'split4_test_score': array([0.8444097 , 0.8444097 , 0.8444097 , 0.8444097 , 0.8444097 ,\n",
       "        0.8444097 , 0.8444097 , 0.8444097 , 0.8444097 , 0.8444097 ,\n",
       "        0.8444097 , 0.8444097 , 0.8444097 , 0.8444097 , 0.8444097 ,\n",
       "        0.8444097 , 0.8444097 , 0.8444097 , 0.86239249, 0.86239249,\n",
       "        0.86239249, 0.86239249, 0.86239249, 0.86239249, 0.8663018 ,\n",
       "        0.86786552, 0.8663018 , 0.86786552, 0.8663018 , 0.8663018 ,\n",
       "        0.87333855, 0.87333855, 0.87177482, 0.87099296, 0.87177482,\n",
       "        0.87177482, 0.88272088, 0.88350274, 0.88193901, 0.88272088,\n",
       "        0.88272088, 0.88115715, 0.88350274, 0.88272088, 0.88115715,\n",
       "        0.88272088, 0.8842846 , 0.88115715, 0.89444879, 0.89366693,\n",
       "        0.89366693, 0.89679437, 0.89288507, 0.89366693, 0.90930414,\n",
       "        0.90774042, 0.90774042, 0.90774042, 0.90304926, 0.90461298,\n",
       "        0.91712275, 0.9202502 , 0.91634089, 0.91790461, 0.91477717,\n",
       "        0.90852228]),\n",
       " 'split5_test_score': array([0.86551994, 0.86551994, 0.86551994, 0.86551994, 0.86551994,\n",
       "        0.86551994, 0.86551994, 0.86551994, 0.86551994, 0.86551994,\n",
       "        0.86551994, 0.86551994, 0.8663018 , 0.86551994, 0.8663018 ,\n",
       "        0.86551994, 0.86551994, 0.8663018 , 0.87490227, 0.87490227,\n",
       "        0.87490227, 0.87412041, 0.87490227, 0.87490227, 0.87412041,\n",
       "        0.87412041, 0.87412041, 0.87412041, 0.87412041, 0.87412041,\n",
       "        0.88506646, 0.88584832, 0.88663018, 0.88584832, 0.88663018,\n",
       "        0.88584832, 0.88897576, 0.88975762, 0.88897576, 0.8881939 ,\n",
       "        0.88897576, 0.88975762, 0.89679437, 0.89366693, 0.89601251,\n",
       "        0.89523065, 0.89444879, 0.89444879, 0.89523065, 0.89366693,\n",
       "        0.89444879, 0.89444879, 0.89366693, 0.89601251, 0.90774042,\n",
       "        0.90852228, 0.90539484, 0.9061767 , 0.90304926, 0.90383112,\n",
       "        0.91712275, 0.91477717, 0.91634089, 0.91243159, 0.91477717,\n",
       "        0.91321345]),\n",
       " 'split6_test_score': array([0.85144644, 0.85144644, 0.85144644, 0.85144644, 0.85144644,\n",
       "        0.85144644, 0.85144644, 0.85144644, 0.85144644, 0.85144644,\n",
       "        0.85144644, 0.85144644, 0.8522283 , 0.8522283 , 0.8522283 ,\n",
       "        0.85144644, 0.8522283 , 0.8522283 , 0.86317435, 0.86317435,\n",
       "        0.86317435, 0.86239249, 0.86239249, 0.86317435, 0.8702111 ,\n",
       "        0.8702111 , 0.86942924, 0.8702111 , 0.86942924, 0.87099296,\n",
       "        0.87333855, 0.87412041, 0.87568413, 0.87412041, 0.87490227,\n",
       "        0.87490227, 0.88193901, 0.88115715, 0.88037529, 0.88193901,\n",
       "        0.88193901, 0.88115715, 0.88350274, 0.88584832, 0.8842846 ,\n",
       "        0.88350274, 0.88272088, 0.88506646, 0.90148554, 0.90304926,\n",
       "        0.90070367, 0.89835809, 0.89913995, 0.89835809, 0.90695856,\n",
       "        0.9061767 , 0.89992181, 0.90070367, 0.90304926, 0.90148554,\n",
       "        0.90695856, 0.90695856, 0.90695856, 0.89913995, 0.89992181,\n",
       "        0.90383112]),\n",
       " 'split7_test_score': array([0.85379203, 0.85379203, 0.85379203, 0.85379203, 0.85379203,\n",
       "        0.85379203, 0.85379203, 0.85379203, 0.85379203, 0.85379203,\n",
       "        0.85379203, 0.85379203, 0.87333855, 0.87333855, 0.87333855,\n",
       "        0.87333855, 0.87333855, 0.87333855, 0.87177482, 0.87177482,\n",
       "        0.87177482, 0.87177482, 0.87177482, 0.87177482, 0.87412041,\n",
       "        0.87802971, 0.87724785, 0.87333855, 0.87333855, 0.87333855,\n",
       "        0.87646599, 0.87568413, 0.87568413, 0.87568413, 0.87568413,\n",
       "        0.87490227, 0.87333855, 0.87333855, 0.87177482, 0.87099296,\n",
       "        0.87255668, 0.87490227, 0.86864738, 0.8702111 , 0.86864738,\n",
       "        0.86864738, 0.86942924, 0.86786552, 0.88350274, 0.88272088,\n",
       "        0.88115715, 0.88350274, 0.88115715, 0.88193901, 0.89210321,\n",
       "        0.89053948, 0.88975762, 0.89210321, 0.88897576, 0.88897576,\n",
       "        0.90148554, 0.89992181, 0.89992181, 0.90383112, 0.89913995,\n",
       "        0.89913995]),\n",
       " 'split8_test_score': array([0.84988272, 0.84988272, 0.84988272, 0.84988272, 0.84988272,\n",
       "        0.84988272, 0.84988272, 0.84988272, 0.84988272, 0.84988272,\n",
       "        0.84988272, 0.84988272, 0.86864738, 0.86864738, 0.86864738,\n",
       "        0.86864738, 0.86864738, 0.86864738, 0.86786552, 0.86786552,\n",
       "        0.86786552, 0.86786552, 0.86786552, 0.86786552, 0.8702111 ,\n",
       "        0.87177482, 0.8702111 , 0.87177482, 0.87177482, 0.8702111 ,\n",
       "        0.87177482, 0.8702111 , 0.87177482, 0.87177482, 0.8702111 ,\n",
       "        0.87177482, 0.87881157, 0.87568413, 0.87490227, 0.87881157,\n",
       "        0.87646599, 0.87177482, 0.87959343, 0.87881157, 0.87959343,\n",
       "        0.87646599, 0.87881157, 0.87802971, 0.88193901, 0.88193901,\n",
       "        0.88350274, 0.87802971, 0.87881157, 0.87959343, 0.89523065,\n",
       "        0.89366693, 0.89288507, 0.89053948, 0.89210321, 0.88741204,\n",
       "        0.90383112, 0.90695856, 0.89992181, 0.90383112, 0.90383112,\n",
       "        0.90539484]),\n",
       " 'split9_test_score': array([0.85457389, 0.85457389, 0.85457389, 0.85457389, 0.85457389,\n",
       "        0.85457389, 0.85457389, 0.85457389, 0.85457389, 0.85457389,\n",
       "        0.85457389, 0.85457389, 0.86473808, 0.86473808, 0.86473808,\n",
       "        0.86473808, 0.86473808, 0.86473808, 0.86473808, 0.86473808,\n",
       "        0.86473808, 0.86473808, 0.86473808, 0.86473808, 0.86942924,\n",
       "        0.86942924, 0.86942924, 0.86864738, 0.86864738, 0.86864738,\n",
       "        0.87333855, 0.87333855, 0.87255668, 0.87255668, 0.87177482,\n",
       "        0.87177482, 0.87568413, 0.87490227, 0.87568413, 0.87568413,\n",
       "        0.87490227, 0.87412041, 0.88115715, 0.88193901, 0.88193901,\n",
       "        0.88272088, 0.88115715, 0.87959343, 0.88193901, 0.87959343,\n",
       "        0.88115715, 0.88037529, 0.87802971, 0.87881157, 0.89210321,\n",
       "        0.89288507, 0.89288507, 0.89132134, 0.89053948, 0.88897576,\n",
       "        0.90148554, 0.90383112, 0.89992181, 0.89913995, 0.89913995,\n",
       "        0.89992181]),\n",
       " 'std_fit_time': array([0.00197023, 0.00091787, 0.00091104, 0.0004392 , 0.000692  ,\n",
       "        0.00084563, 0.00098573, 0.00104429, 0.00087685, 0.00099195,\n",
       "        0.0001782 , 0.0004505 , 0.00105063, 0.00047046, 0.00086415,\n",
       "        0.00143449, 0.00104523, 0.00058116, 0.00123834, 0.00130604,\n",
       "        0.00078929, 0.00136739, 0.00116644, 0.00025859, 0.00180398,\n",
       "        0.00167683, 0.00200575, 0.00091122, 0.0020079 , 0.00145442,\n",
       "        0.00128689, 0.00124017, 0.00179927, 0.00140927, 0.00126295,\n",
       "        0.00135838, 0.00161293, 0.00123692, 0.00128974, 0.0011945 ,\n",
       "        0.00175128, 0.00109924, 0.00059817, 0.00152994, 0.00137701,\n",
       "        0.00167177, 0.0019285 , 0.00166107, 0.00171816, 0.00219164,\n",
       "        0.00096005, 0.00142992, 0.00159154, 0.00186648, 0.00195805,\n",
       "        0.00157853, 0.00167928, 0.00135698, 0.00142802, 0.00186907,\n",
       "        0.00171014, 0.00177683, 0.0042492 , 0.00172667, 0.000404  ,\n",
       "        0.002501  ]),\n",
       " 'std_score_time': array([4.54751060e-04, 2.35467120e-04, 2.94987973e-04, 3.51005368e-04,\n",
       "        2.31728431e-04, 1.59579539e-04, 7.61485154e-04, 3.36679837e-04,\n",
       "        1.61244727e-04, 1.99528969e-04, 6.27590934e-05, 1.62327494e-04,\n",
       "        9.38746323e-05, 5.01840754e-05, 4.15554829e-05, 2.12594280e-04,\n",
       "        1.55154495e-04, 2.03859553e-04, 2.03185764e-04, 1.63516224e-04,\n",
       "        1.24817045e-04, 3.63894896e-04, 1.30413753e-04, 1.40552816e-04,\n",
       "        8.52763267e-05, 2.96469135e-04, 2.10949688e-04, 1.02446022e-04,\n",
       "        2.55639427e-04, 1.73430689e-04, 4.75659346e-05, 2.34801129e-04,\n",
       "        2.39580333e-04, 2.50411972e-04, 3.55507565e-04, 3.16678055e-04,\n",
       "        3.54196609e-04, 5.63010267e-05, 2.21485399e-04, 1.89162216e-04,\n",
       "        2.51375988e-04, 2.89184514e-04, 1.77613081e-04, 3.20166582e-04,\n",
       "        2.38640043e-04, 7.19390244e-05, 7.15915892e-05, 2.08856702e-04,\n",
       "        1.15797646e-04, 1.68985303e-04, 8.84109457e-05, 2.66653585e-04,\n",
       "        1.70435769e-04, 3.69067414e-04, 2.64622401e-04, 1.56648636e-04,\n",
       "        1.74623399e-04, 2.18571617e-04, 1.62388749e-04, 1.71178764e-04,\n",
       "        2.49464869e-04, 2.84899054e-04, 4.44448463e-04, 2.17689299e-04,\n",
       "        5.74756732e-05, 1.57755326e-04]),\n",
       " 'std_test_score': array([0.00546688, 0.00546688, 0.00546688, 0.00546688, 0.00546688,\n",
       "        0.00546688, 0.00546688, 0.00546688, 0.00546688, 0.00546688,\n",
       "        0.00546688, 0.00546688, 0.0091344 , 0.00922496, 0.0090561 ,\n",
       "        0.00928935, 0.0091461 , 0.0091461 , 0.00647766, 0.00638498,\n",
       "        0.00656065, 0.00636917, 0.00645497, 0.00643838, 0.00600355,\n",
       "        0.00653029, 0.00630162, 0.00600762, 0.0057263 , 0.00582788,\n",
       "        0.00597293, 0.00591533, 0.00624706, 0.00596934, 0.00661816,\n",
       "        0.00637876, 0.00653965, 0.00631374, 0.00640744, 0.0068179 ,\n",
       "        0.00735988, 0.00698618, 0.00682686, 0.00656437, 0.00671491,\n",
       "        0.00664168, 0.00636389, 0.006724  , 0.0077857 , 0.00807099,\n",
       "        0.0073578 , 0.0074769 , 0.00768017, 0.00779708, 0.00913272,\n",
       "        0.00925275, 0.00816624, 0.00942167, 0.00764306, 0.00861325,\n",
       "        0.00817185, 0.00797498, 0.00729942, 0.00792577, 0.00821363,\n",
       "        0.0077495 ])}"
      ]
     },
     "execution_count": 78,
     "metadata": {},
     "output_type": "execute_result"
    }
   ],
   "source": [
    "grid.cv_results_"
   ]
  },
  {
   "cell_type": "markdown",
   "metadata": {},
   "source": [
    "Now that we have finetuned the hyperparameter, let us create clf object with tuned parameters & train & test."
   ]
  },
  {
   "cell_type": "code",
   "execution_count": 79,
   "metadata": {
    "collapsed": true
   },
   "outputs": [],
   "source": [
    "clf_grid = tree.DecisionTreeClassifier(criterion=\"gini\", max_depth = 11, min_samples_split = 3)"
   ]
  },
  {
   "cell_type": "code",
   "execution_count": 80,
   "metadata": {
    "collapsed": false
   },
   "outputs": [
    {
     "data": {
      "text/plain": [
       "DecisionTreeClassifier(max_depth=11, min_samples_split=3)"
      ]
     },
     "execution_count": 80,
     "metadata": {},
     "output_type": "execute_result"
    }
   ],
   "source": [
    "clf_grid.fit(X_train, y_train)"
   ]
  },
  {
   "cell_type": "code",
   "execution_count": 82,
   "metadata": {
    "collapsed": false
   },
   "outputs": [],
   "source": [
    "predicted_train_grid = clf_grid.predict(X_train)"
   ]
  },
  {
   "cell_type": "code",
   "execution_count": 85,
   "metadata": {
    "collapsed": false
   },
   "outputs": [
    {
     "name": "stdout",
     "output_type": "stream",
     "text": [
      "Training Data Balanced Accuracy: 0.8110082655510268\n",
      "Training Data Accuracy: 0.9382136712028781\n",
      "Training Data Precision: 0.9075235109717869\n",
      "Training Data Recall: 0.6327868852459017\n"
     ]
    }
   ],
   "source": [
    "#Metrics\n",
    "print(\"Training Data Balanced Accuracy:\",metrics.balanced_accuracy_score(y_train, predicted_train_grid))\n",
    "print(\"Training Data Accuracy:\",metrics.accuracy_score(y_train, predicted_train_grid))\n",
    "print(\"Training Data Precision:\",metrics.precision_score(y_train, predicted_train_grid))\n",
    "print(\"Training Data Recall:\",metrics.recall_score(y_train, predicted_train_grid))"
   ]
  },
  {
   "cell_type": "markdown",
   "metadata": {},
   "source": [
    "**TESTING**"
   ]
  },
  {
   "cell_type": "code",
   "execution_count": 86,
   "metadata": {
    "collapsed": true
   },
   "outputs": [],
   "source": [
    "predicted_test = clf_grid.predict(X_test)"
   ]
  },
  {
   "cell_type": "code",
   "execution_count": 87,
   "metadata": {
    "collapsed": false
   },
   "outputs": [
    {
     "name": "stdout",
     "output_type": "stream",
     "text": [
      "Test Set Balanced Accuracy: 0.7694367140460616\n",
      "Test Set Accuracy: 0.9098869025902955\n",
      "Test Set Precision: 0.7401315789473685\n",
      "Test Set Recall: 0.5725190839694656\n"
     ]
    }
   ],
   "source": [
    "print(\"Test Set Balanced Accuracy:\",metrics.balanced_accuracy_score(y_test, predicted_test))\n",
    "print(\"Test Set Accuracy:\",metrics.accuracy_score(y_test, predicted_test))\n",
    "print(\"Test Set Precision:\",metrics.precision_score(y_test, predicted_test))\n",
    "print(\"Test Set Recall:\",metrics.recall_score(y_test, predicted_test))"
   ]
  },
  {
   "cell_type": "code",
   "execution_count": 88,
   "metadata": {
    "collapsed": false
   },
   "outputs": [
    {
     "name": "stdout",
     "output_type": "stream",
     "text": [
      "\n",
      "Testing data\n",
      "              precision    recall  f1-score   support\n",
      "\n",
      "           0       0.93      0.97      0.95      2348\n",
      "           1       0.74      0.57      0.65       393\n",
      "\n",
      "    accuracy                           0.91      2741\n",
      "   macro avg       0.84      0.77      0.80      2741\n",
      "weighted avg       0.90      0.91      0.90      2741\n",
      "\n"
     ]
    }
   ],
   "source": [
    "measures_test      = classification_report(y_test, predicted_test) \n",
    "print(\"\\nTesting data\")\n",
    "print(measures_test) "
   ]
  },
  {
   "cell_type": "markdown",
   "metadata": {},
   "source": [
    "<b>  Understand feature importances in this model </b>"
   ]
  },
  {
   "cell_type": "code",
   "execution_count": 89,
   "metadata": {
    "collapsed": false
   },
   "outputs": [
    {
     "name": "stdout",
     "output_type": "stream",
     "text": [
      "{'State': 0.0016548835612680216, 'Customer Lifetime Value': 0.12417097323074758, 'Response': 0.012647299859530031, 'Coverage': 0.03746764994654437, 'Education': 0.1230759058437066, 'Effective To Date': 0.0, 'EmploymentStatus': 0.11967270099735067, 'Gender': 0.011766418694996665, 'Income': 0.026927430525997414, 'Location Code': 0.07100029485534586, 'Marital Status': 0.03699502787522433, 'Monthly Premium Auto': 0.09205572243794838, 'Months Since Last Claim': 0.0243802794164868, 'Months Since Policy Inception': 0.021042791052756325, 'Number of Open Complaints': 0.0, 'Number of Policies': 0.0, 'Policy Type': 0.10476551777500163, 'Policy': 0.013196105264135501, 'Renew Offer Type': 0.13020732908052476, 'Sales Channel': 0.026561855039792664, 'Total Claim Amount': 0.022411814542642572}\n"
     ]
    },
    {
     "data": {
      "image/png": "[encoded data removed]",
      "text/plain": [
       "<matplotlib.figure.Figure at 0x1239dbe10>"
      ]
     },
     "metadata": {},
     "output_type": "display_data"
    }
   ],
   "source": [
    "import matplotlib.pyplot as plt\n",
    "print(dict(zip(df_clv.columns, clf_grid.feature_importances_)))\n",
    "\n",
    "feature_names = df_clv.columns\n",
    "importances = clf_grid.feature_importances_\n",
    "indices     = np.argsort(importances)\n",
    "\n",
    "plt.title('Feature Importances')\n",
    "plt.barh(range(len(indices)), importances[indices], color='b', align='center')\n",
    "plt.yticks(range(len(indices)), [feature_names[i] for i in indices])\n",
    "plt.xlabel('Relative Importance')\n",
    "plt.show()"
   ]
  },
  {
   "cell_type": "markdown",
   "metadata": {},
   "source": [
    "<b> **Visualize the tree - Interpretability!** </b>"
   ]
  },
  {
   "cell_type": "code",
   "execution_count": 90,
   "metadata": {
    "collapsed": false
   },
   "outputs": [],
   "source": [
    "#from sklearn import tree \n",
    "from sklearn.tree import plot_tree"
   ]
  },
  {
   "cell_type": "code",
   "execution_count": 91,
   "metadata": {
    "collapsed": false
   },
   "outputs": [
    {
     "data": {
      "text/plain": [
       "[<matplotlib.text.Annotation at 0x1259716d8>,\n",
       " <matplotlib.text.Annotation at 0x1259840f0>,\n",
       " <matplotlib.text.Annotation at 0x125984710>,\n",
       " <matplotlib.text.Annotation at 0x125984c88>,\n",
       " <matplotlib.text.Annotation at 0x12598b240>,\n",
       " <matplotlib.text.Annotation at 0x12598b780>,\n",
       " <matplotlib.text.Annotation at 0x12598bcf8>,\n",
       " <matplotlib.text.Annotation at 0x12598f2b0>,\n",
       " <matplotlib.text.Annotation at 0x12598f828>,\n",
       " <matplotlib.text.Annotation at 0x12598fda0>,\n",
       " <matplotlib.text.Annotation at 0x125997358>,\n",
       " <matplotlib.text.Annotation at 0x125997898>,\n",
       " <matplotlib.text.Annotation at 0x125997320>,\n",
       " <matplotlib.text.Annotation at 0x12598fd68>,\n",
       " <matplotlib.text.Annotation at 0x1259226a0>,\n",
       " <matplotlib.text.Annotation at 0x12591b6d8>,\n",
       " <matplotlib.text.Annotation at 0x125917f98>,\n",
       " <matplotlib.text.Annotation at 0x124daeeb8>,\n",
       " <matplotlib.text.Annotation at 0x124d67eb8>,\n",
       " <matplotlib.text.Annotation at 0x124dae668>,\n",
       " <matplotlib.text.Annotation at 0x124d5ca20>,\n",
       " <matplotlib.text.Annotation at 0x124da5b70>,\n",
       " <matplotlib.text.Annotation at 0x125917fd0>,\n",
       " <matplotlib.text.Annotation at 0x124d3b9b0>,\n",
       " <matplotlib.text.Annotation at 0x12599b908>,\n",
       " <matplotlib.text.Annotation at 0x12599bd68>,\n",
       " <matplotlib.text.Annotation at 0x1259a22b0>,\n",
       " <matplotlib.text.Annotation at 0x12591b748>,\n",
       " <matplotlib.text.Annotation at 0x1259a2cc0>,\n",
       " <matplotlib.text.Annotation at 0x1259a4278>,\n",
       " <matplotlib.text.Annotation at 0x1259a47f0>,\n",
       " <matplotlib.text.Annotation at 0x1259a4d30>,\n",
       " <matplotlib.text.Annotation at 0x1259a47b8>,\n",
       " <matplotlib.text.Annotation at 0x1259ab7f0>,\n",
       " <matplotlib.text.Annotation at 0x1259abd30>,\n",
       " <matplotlib.text.Annotation at 0x1259a4240>,\n",
       " <matplotlib.text.Annotation at 0x12598f7f0>,\n",
       " <matplotlib.text.Annotation at 0x1259b0c50>,\n",
       " <matplotlib.text.Annotation at 0x1259b4208>,\n",
       " <matplotlib.text.Annotation at 0x1259b4748>,\n",
       " <matplotlib.text.Annotation at 0x1259b41d0>,\n",
       " <matplotlib.text.Annotation at 0x12598f278>,\n",
       " <matplotlib.text.Annotation at 0x1259ba6d8>,\n",
       " <matplotlib.text.Annotation at 0x1259bac50>,\n",
       " <matplotlib.text.Annotation at 0x1259c01d0>,\n",
       " <matplotlib.text.Annotation at 0x1259bac18>,\n",
       " <matplotlib.text.Annotation at 0x12598b208>,\n",
       " <matplotlib.text.Annotation at 0x1259c4128>,\n",
       " <matplotlib.text.Annotation at 0x1259c46a0>,\n",
       " <matplotlib.text.Annotation at 0x1259c4c18>,\n",
       " <matplotlib.text.Annotation at 0x1259cc1d0>,\n",
       " <matplotlib.text.Annotation at 0x1259cc710>,\n",
       " <matplotlib.text.Annotation at 0x1259cc198>,\n",
       " <matplotlib.text.Annotation at 0x1259d11d0>,\n",
       " <matplotlib.text.Annotation at 0x1259d1748>,\n",
       " <matplotlib.text.Annotation at 0x1259d1c88>,\n",
       " <matplotlib.text.Annotation at 0x1259d1710>,\n",
       " <matplotlib.text.Annotation at 0x1259d7748>,\n",
       " <matplotlib.text.Annotation at 0x1259d7c88>,\n",
       " <matplotlib.text.Annotation at 0x1259dc240>,\n",
       " <matplotlib.text.Annotation at 0x1259dc780>,\n",
       " <matplotlib.text.Annotation at 0x1259c4be0>,\n",
       " <matplotlib.text.Annotation at 0x1259e2198>,\n",
       " <matplotlib.text.Annotation at 0x1259e2710>,\n",
       " <matplotlib.text.Annotation at 0x1259e2c50>,\n",
       " <matplotlib.text.Annotation at 0x1259e6208>,\n",
       " <matplotlib.text.Annotation at 0x1259e6748>,\n",
       " <matplotlib.text.Annotation at 0x1259e26d8>,\n",
       " <matplotlib.text.Annotation at 0x1259c4668>,\n",
       " <matplotlib.text.Annotation at 0x1259ee6a0>,\n",
       " <matplotlib.text.Annotation at 0x1259eebe0>,\n",
       " <matplotlib.text.Annotation at 0x1259f3198>,\n",
       " <matplotlib.text.Annotation at 0x1259f36d8>,\n",
       " <matplotlib.text.Annotation at 0x125984c50>,\n",
       " <matplotlib.text.Annotation at 0x1259f90f0>,\n",
       " <matplotlib.text.Annotation at 0x1259f9668>,\n",
       " <matplotlib.text.Annotation at 0x1259f9be0>,\n",
       " <matplotlib.text.Annotation at 0x125a01198>,\n",
       " <matplotlib.text.Annotation at 0x125a01710>,\n",
       " <matplotlib.text.Annotation at 0x125a01c88>,\n",
       " <matplotlib.text.Annotation at 0x125a04208>,\n",
       " <matplotlib.text.Annotation at 0x125a01c50>,\n",
       " <matplotlib.text.Annotation at 0x125a04c88>,\n",
       " <matplotlib.text.Annotation at 0x125a0b240>,\n",
       " <matplotlib.text.Annotation at 0x125a0b7b8>,\n",
       " <matplotlib.text.Annotation at 0x125a0bd30>,\n",
       " <matplotlib.text.Annotation at 0x125a112b0>,\n",
       " <matplotlib.text.Annotation at 0x125a0bcf8>,\n",
       " <matplotlib.text.Annotation at 0x125a0b780>,\n",
       " <matplotlib.text.Annotation at 0x125a0b208>,\n",
       " <matplotlib.text.Annotation at 0x125a16780>,\n",
       " <matplotlib.text.Annotation at 0x125a16cf8>,\n",
       " <matplotlib.text.Annotation at 0x125a1b2b0>,\n",
       " <matplotlib.text.Annotation at 0x125a1b7f0>,\n",
       " <matplotlib.text.Annotation at 0x125a1b278>,\n",
       " <matplotlib.text.Annotation at 0x125a222b0>,\n",
       " <matplotlib.text.Annotation at 0x125a227f0>,\n",
       " <matplotlib.text.Annotation at 0x125a16cc0>,\n",
       " <matplotlib.text.Annotation at 0x125a016d8>,\n",
       " <matplotlib.text.Annotation at 0x125a26710>,\n",
       " <matplotlib.text.Annotation at 0x125a26c88>,\n",
       " <matplotlib.text.Annotation at 0x125a2b240>,\n",
       " <matplotlib.text.Annotation at 0x125a2b780>,\n",
       " <matplotlib.text.Annotation at 0x125a2b208>,\n",
       " <matplotlib.text.Annotation at 0x125a26c50>,\n",
       " <matplotlib.text.Annotation at 0x125a33748>,\n",
       " <matplotlib.text.Annotation at 0x125a33c88>,\n",
       " <matplotlib.text.Annotation at 0x125a38240>,\n",
       " <matplotlib.text.Annotation at 0x125a38780>,\n",
       " <matplotlib.text.Annotation at 0x125a01160>,\n",
       " <matplotlib.text.Annotation at 0x125a3e198>,\n",
       " <matplotlib.text.Annotation at 0x125a3e710>,\n",
       " <matplotlib.text.Annotation at 0x125a3ec50>,\n",
       " <matplotlib.text.Annotation at 0x125a46208>,\n",
       " <matplotlib.text.Annotation at 0x125a46780>,\n",
       " <matplotlib.text.Annotation at 0x125a46cc0>,\n",
       " <matplotlib.text.Annotation at 0x125a46748>,\n",
       " <matplotlib.text.Annotation at 0x125a3e6d8>,\n",
       " <matplotlib.text.Annotation at 0x125a49c50>,\n",
       " <matplotlib.text.Annotation at 0x125a4f208>,\n",
       " <matplotlib.text.Annotation at 0x125a4f780>,\n",
       " <matplotlib.text.Annotation at 0x125a4fcf8>,\n",
       " <matplotlib.text.Annotation at 0x125a542b0>,\n",
       " <matplotlib.text.Annotation at 0x125a547f0>,\n",
       " <matplotlib.text.Annotation at 0x125a54278>,\n",
       " <matplotlib.text.Annotation at 0x125a5a2b0>,\n",
       " <matplotlib.text.Annotation at 0x125a5a7f0>,\n",
       " <matplotlib.text.Annotation at 0x125a4fcc0>,\n",
       " <matplotlib.text.Annotation at 0x125a5f278>,\n",
       " <matplotlib.text.Annotation at 0x125a5f7f0>,\n",
       " <matplotlib.text.Annotation at 0x125a5fd30>,\n",
       " <matplotlib.text.Annotation at 0x125a5f7b8>,\n",
       " <matplotlib.text.Annotation at 0x125a667f0>,\n",
       " <matplotlib.text.Annotation at 0x125a66d30>,\n",
       " <matplotlib.text.Annotation at 0x125a4f748>,\n",
       " <matplotlib.text.Annotation at 0x125a6a780>,\n",
       " <matplotlib.text.Annotation at 0x125a6acf8>,\n",
       " <matplotlib.text.Annotation at 0x125a712b0>,\n",
       " <matplotlib.text.Annotation at 0x125a717f0>,\n",
       " <matplotlib.text.Annotation at 0x125a71278>,\n",
       " <matplotlib.text.Annotation at 0x125a782b0>,\n",
       " <matplotlib.text.Annotation at 0x125a787f0>,\n",
       " <matplotlib.text.Annotation at 0x125a6acc0>,\n",
       " <matplotlib.text.Annotation at 0x125a7c278>,\n",
       " <matplotlib.text.Annotation at 0x125a7c7b8>,\n",
       " <matplotlib.text.Annotation at 0x122595278>,\n",
       " <matplotlib.text.Annotation at 0x124da5128>,\n",
       " <matplotlib.text.Annotation at 0x125a4f1d0>,\n",
       " <matplotlib.text.Annotation at 0x124ca7128>,\n",
       " <matplotlib.text.Annotation at 0x124ca71d0>,\n",
       " <matplotlib.text.Annotation at 0x124ca7898>,\n",
       " <matplotlib.text.Annotation at 0x12450bba8>,\n",
       " <matplotlib.text.Annotation at 0x12450bc18>,\n",
       " <matplotlib.text.Annotation at 0x12450bb38>,\n",
       " <matplotlib.text.Annotation at 0x12450b2b0>,\n",
       " <matplotlib.text.Annotation at 0x12450bcc0>,\n",
       " <matplotlib.text.Annotation at 0x124d6c6d8>,\n",
       " <matplotlib.text.Annotation at 0x124d6c320>,\n",
       " <matplotlib.text.Annotation at 0x1259f9ba8>,\n",
       " <matplotlib.text.Annotation at 0x124d8eb38>,\n",
       " <matplotlib.text.Annotation at 0x124d8e898>,\n",
       " <matplotlib.text.Annotation at 0x124d79940>,\n",
       " <matplotlib.text.Annotation at 0x124d795f8>,\n",
       " <matplotlib.text.Annotation at 0x124d79f28>,\n",
       " <matplotlib.text.Annotation at 0x124c88a20>,\n",
       " <matplotlib.text.Annotation at 0x124c88cc0>,\n",
       " <matplotlib.text.Annotation at 0x124c887b8>,\n",
       " <matplotlib.text.Annotation at 0x124d798d0>,\n",
       " <matplotlib.text.Annotation at 0x124d79b70>,\n",
       " <matplotlib.text.Annotation at 0x124514fd0>,\n",
       " <matplotlib.text.Annotation at 0x124514f60>,\n",
       " <matplotlib.text.Annotation at 0x1229b5630>,\n",
       " <matplotlib.text.Annotation at 0x124532b70>,\n",
       " <matplotlib.text.Annotation at 0x124532320>,\n",
       " <matplotlib.text.Annotation at 0x124514470>,\n",
       " <matplotlib.text.Annotation at 0x12453a1d0>,\n",
       " <matplotlib.text.Annotation at 0x12453ac50>,\n",
       " <matplotlib.text.Annotation at 0x12452b748>,\n",
       " <matplotlib.text.Annotation at 0x12452be48>,\n",
       " <matplotlib.text.Annotation at 0x12452b898>,\n",
       " <matplotlib.text.Annotation at 0x12453aba8>,\n",
       " <matplotlib.text.Annotation at 0x124d5c978>,\n",
       " <matplotlib.text.Annotation at 0x1245414e0>,\n",
       " <matplotlib.text.Annotation at 0x124541ef0>,\n",
       " <matplotlib.text.Annotation at 0x124541a90>,\n",
       " <matplotlib.text.Annotation at 0x124d79b38>,\n",
       " <matplotlib.text.Annotation at 0x124548978>,\n",
       " <matplotlib.text.Annotation at 0x1226872b0>,\n",
       " <matplotlib.text.Annotation at 0x12454f128>,\n",
       " <matplotlib.text.Annotation at 0x12454fe80>,\n",
       " <matplotlib.text.Annotation at 0x124557e10>,\n",
       " <matplotlib.text.Annotation at 0x124557630>,\n",
       " <matplotlib.text.Annotation at 0x124557dd8>,\n",
       " <matplotlib.text.Annotation at 0x12454fef0>,\n",
       " <matplotlib.text.Annotation at 0x12455e5f8>,\n",
       " <matplotlib.text.Annotation at 0x12455eda0>,\n",
       " <matplotlib.text.Annotation at 0x124d47a90>,\n",
       " <matplotlib.text.Annotation at 0x124d47208>,\n",
       " <matplotlib.text.Annotation at 0x12454f080>,\n",
       " <matplotlib.text.Annotation at 0x124d4c0b8>,\n",
       " <matplotlib.text.Annotation at 0x124d50ef0>,\n",
       " <matplotlib.text.Annotation at 0x124d50630>,\n",
       " <matplotlib.text.Annotation at 0x124d74080>,\n",
       " <matplotlib.text.Annotation at 0x124d749e8>,\n",
       " <matplotlib.text.Annotation at 0x124d742b0>,\n",
       " <matplotlib.text.Annotation at 0x122687d68>,\n",
       " <matplotlib.text.Annotation at 0x124564550>,\n",
       " <matplotlib.text.Annotation at 0x124564f28>,\n",
       " <matplotlib.text.Annotation at 0x12456d358>,\n",
       " <matplotlib.text.Annotation at 0x12456d828>,\n",
       " <matplotlib.text.Annotation at 0x12456d320>,\n",
       " <matplotlib.text.Annotation at 0x12456d198>,\n",
       " <matplotlib.text.Annotation at 0x124574940>,\n",
       " <matplotlib.text.Annotation at 0x1225b2908>,\n",
       " <matplotlib.text.Annotation at 0x12456d3c8>,\n",
       " <matplotlib.text.Annotation at 0x12457db00>,\n",
       " <matplotlib.text.Annotation at 0x124d42f28>,\n",
       " <matplotlib.text.Annotation at 0x124d420b8>,\n",
       " <matplotlib.text.Annotation at 0x124d424a8>,\n",
       " <matplotlib.text.Annotation at 0x124564320>,\n",
       " <matplotlib.text.Annotation at 0x124583390>,\n",
       " <matplotlib.text.Annotation at 0x124583a20>,\n",
       " <matplotlib.text.Annotation at 0x124d3bba8>,\n",
       " <matplotlib.text.Annotation at 0x124d3ba90>,\n",
       " <matplotlib.text.Annotation at 0x124d3bb70>,\n",
       " <matplotlib.text.Annotation at 0x124c94a90>,\n",
       " <matplotlib.text.Annotation at 0x124c94ef0>,\n",
       " <matplotlib.text.Annotation at 0x124583eb8>,\n",
       " <matplotlib.text.Annotation at 0x124c9cd30>,\n",
       " <matplotlib.text.Annotation at 0x124c8f320>,\n",
       " <matplotlib.text.Annotation at 0x124c8fef0>,\n",
       " <matplotlib.text.Annotation at 0x124c8f710>,\n",
       " <matplotlib.text.Annotation at 0x124d8ea20>,\n",
       " <matplotlib.text.Annotation at 0x124c6ccf8>,\n",
       " <matplotlib.text.Annotation at 0x124c6ca20>,\n",
       " <matplotlib.text.Annotation at 0x124c70940>,\n",
       " <matplotlib.text.Annotation at 0x124c70668>,\n",
       " <matplotlib.text.Annotation at 0x124c70b00>,\n",
       " <matplotlib.text.Annotation at 0x124dae4a8>,\n",
       " <matplotlib.text.Annotation at 0x124c70b70>,\n",
       " <matplotlib.text.Annotation at 0x124d67860>,\n",
       " <matplotlib.text.Annotation at 0x124c6ae48>,\n",
       " <matplotlib.text.Annotation at 0x122844fd0>,\n",
       " <matplotlib.text.Annotation at 0x123b62080>,\n",
       " <matplotlib.text.Annotation at 0x1228446a0>,\n",
       " <matplotlib.text.Annotation at 0x1239db6d8>,\n",
       " <matplotlib.text.Annotation at 0x1237a5e48>,\n",
       " <matplotlib.text.Annotation at 0x124c6ab00>,\n",
       " <matplotlib.text.Annotation at 0x1227a5be0>,\n",
       " <matplotlib.text.Annotation at 0x1227a5898>,\n",
       " <matplotlib.text.Annotation at 0x1229a4630>,\n",
       " <matplotlib.text.Annotation at 0x1227a5630>,\n",
       " <matplotlib.text.Annotation at 0x124c6c588>,\n",
       " <matplotlib.text.Annotation at 0x123588c50>,\n",
       " <matplotlib.text.Annotation at 0x12281b0b8>,\n",
       " <matplotlib.text.Annotation at 0x12281bba8>,\n",
       " <matplotlib.text.Annotation at 0x12296b048>,\n",
       " <matplotlib.text.Annotation at 0x124667828>,\n",
       " <matplotlib.text.Annotation at 0x1225e3828>,\n",
       " <matplotlib.text.Annotation at 0x124667e48>,\n",
       " <matplotlib.text.Annotation at 0x1226f8208>,\n",
       " <matplotlib.text.Annotation at 0x1226f8390>,\n",
       " <matplotlib.text.Annotation at 0x12296b160>,\n",
       " <matplotlib.text.Annotation at 0x12281bfd0>,\n",
       " <matplotlib.text.Annotation at 0x1225c8828>,\n",
       " <matplotlib.text.Annotation at 0x1225c87b8>,\n",
       " <matplotlib.text.Annotation at 0x12281b0f0>,\n",
       " <matplotlib.text.Annotation at 0x12284be80>,\n",
       " <matplotlib.text.Annotation at 0x1226eec50>,\n",
       " <matplotlib.text.Annotation at 0x1226ee160>,\n",
       " <matplotlib.text.Annotation at 0x1226ee6a0>,\n",
       " <matplotlib.text.Annotation at 0x1259f9630>,\n",
       " <matplotlib.text.Annotation at 0x1225da6a0>,\n",
       " <matplotlib.text.Annotation at 0x1225da2e8>,\n",
       " <matplotlib.text.Annotation at 0x1225da470>,\n",
       " <matplotlib.text.Annotation at 0x122802550>,\n",
       " <matplotlib.text.Annotation at 0x12286e860>,\n",
       " <matplotlib.text.Annotation at 0x12286eb38>,\n",
       " <matplotlib.text.Annotation at 0x12270c7b8>,\n",
       " <matplotlib.text.Annotation at 0x12270c400>,\n",
       " <matplotlib.text.Annotation at 0x12270c8d0>,\n",
       " <matplotlib.text.Annotation at 0x122715128>,\n",
       " <matplotlib.text.Annotation at 0x12270c518>,\n",
       " <matplotlib.text.Annotation at 0x12286ecf8>,\n",
       " <matplotlib.text.Annotation at 0x12271b048>,\n",
       " <matplotlib.text.Annotation at 0x12271cef0>,\n",
       " <matplotlib.text.Annotation at 0x12271c278>,\n",
       " <matplotlib.text.Annotation at 0x12271c390>,\n",
       " <matplotlib.text.Annotation at 0x122798e10>,\n",
       " <matplotlib.text.Annotation at 0x122798208>,\n",
       " <matplotlib.text.Annotation at 0x122820c88>,\n",
       " <matplotlib.text.Annotation at 0x122820b70>,\n",
       " <matplotlib.text.Annotation at 0x1225da198>,\n",
       " <matplotlib.text.Annotation at 0x1225da320>,\n",
       " <matplotlib.text.Annotation at 0x122700630>,\n",
       " <matplotlib.text.Annotation at 0x122700908>,\n",
       " <matplotlib.text.Annotation at 0x1259846d8>,\n",
       " <matplotlib.text.Annotation at 0x1226ef160>,\n",
       " <matplotlib.text.Annotation at 0x12283d128>,\n",
       " <matplotlib.text.Annotation at 0x12283d4e0>,\n",
       " <matplotlib.text.Annotation at 0x12283df60>,\n",
       " <matplotlib.text.Annotation at 0x122790668>,\n",
       " <matplotlib.text.Annotation at 0x122790f28>,\n",
       " <matplotlib.text.Annotation at 0x122790400>,\n",
       " <matplotlib.text.Annotation at 0x1226e99b0>,\n",
       " <matplotlib.text.Annotation at 0x1226e9cf8>,\n",
       " <matplotlib.text.Annotation at 0x1229186d8>,\n",
       " <matplotlib.text.Annotation at 0x122918240>,\n",
       " <matplotlib.text.Annotation at 0x1226e9048>,\n",
       " <matplotlib.text.Annotation at 0x122790198>,\n",
       " <matplotlib.text.Annotation at 0x1227b3390>,\n",
       " <matplotlib.text.Annotation at 0x12298b0b8>,\n",
       " <matplotlib.text.Annotation at 0x122790470>,\n",
       " <matplotlib.text.Annotation at 0x1227bacf8>,\n",
       " <matplotlib.text.Annotation at 0x1227c1e80>,\n",
       " <matplotlib.text.Annotation at 0x1227c1d68>,\n",
       " <matplotlib.text.Annotation at 0x1227c1c88>,\n",
       " <matplotlib.text.Annotation at 0x122879278>,\n",
       " <matplotlib.text.Annotation at 0x1227cda20>,\n",
       " <matplotlib.text.Annotation at 0x1227cd668>,\n",
       " <matplotlib.text.Annotation at 0x1227cde80>,\n",
       " <matplotlib.text.Annotation at 0x1227d46a0>,\n",
       " <matplotlib.text.Annotation at 0x1227d49b0>]"
      ]
     },
     "execution_count": 91,
     "metadata": {},
     "output_type": "execute_result"
    },
    {
     "data": {
      "image/png": "[encoded data removed]",
      "text/plain": [
       "<matplotlib.figure.Figure at 0x123b62390>"
      ]
     },
     "metadata": {},
     "output_type": "display_data"
    }
   ],
   "source": [
    "plt.rcParams[\"figure.figsize\"] = [21,16]\n",
    "tree.plot_tree(clf_grid)"
   ]
  },
  {
   "cell_type": "markdown",
   "metadata": {
    "collapsed": true
   },
   "source": [
    "<b> Export tree as picture </b>"
   ]
  },
  {
   "cell_type": "code",
   "execution_count": 106,
   "metadata": {
    "collapsed": true
   },
   "outputs": [],
   "source": [
    "def decision_tree_with_pruning(clf_grid, X, y, flist, file_name):\n",
    "    from sklearn.tree            import export_graphviz\n",
    "    from sklearn.externals.six   import StringIO  \n",
    "    from IPython.core.pylabtools import figsize\n",
    "    from IPython.display         import Image\n",
    "    figsize(12.5, 6)\n",
    "    import pydot\n",
    "    #dot_data = StringIO()  \n",
    "    file_name_dot = file_name + '.dot'\n",
    "    file_name_png = file_name + '.png'\n",
    "    \n",
    "    export_graphviz(clf_grid, out_file = file_name_dot, feature_names = flist,\n",
    "                    class_names = ['No' , 'Yes'],\n",
    "                    filled = True, rounded = True)\n",
    "    (graph,) = pydot.graph_from_dot_file(\"/Users/anand/Documents/GL_Guru/\"+file_name_dot)\n",
    "    graph.write_png(file_name_png)\n",
    "    return Image(file_name_png)"
   ]
  },
  {
   "cell_type": "code",
   "execution_count": 108,
   "metadata": {
    "collapsed": false
   },
   "outputs": [
    {
     "ename": "FileNotFoundError",
     "evalue": "[Errno 2] \"dot\" not found in path.",
     "output_type": "error",
     "traceback": [
      "\u001b[0;31m---------------------------------------------------------------------------\u001b[0m",
      "\u001b[0;31mFileNotFoundError\u001b[0m                         Traceback (most recent call last)",
      "\u001b[0;32m/Users/anand/anaconda/lib/python3.6/site-packages/pydot.py\u001b[0m in \u001b[0;36mcreate\u001b[0;34m(self, prog, format, encoding)\u001b[0m\n\u001b[1;32m   1914\u001b[0m                 \u001b[0marguments\u001b[0m\u001b[0;34m=\u001b[0m\u001b[0marguments\u001b[0m\u001b[0;34m,\u001b[0m\u001b[0;34m\u001b[0m\u001b[0m\n\u001b[0;32m-> 1915\u001b[0;31m                 \u001b[0mworking_dir\u001b[0m\u001b[0;34m=\u001b[0m\u001b[0mtmp_dir\u001b[0m\u001b[0;34m,\u001b[0m\u001b[0;34m\u001b[0m\u001b[0m\n\u001b[0m\u001b[1;32m   1916\u001b[0m             )\n",
      "\u001b[0;32m/Users/anand/anaconda/lib/python3.6/site-packages/pydot.py\u001b[0m in \u001b[0;36mcall_graphviz\u001b[0;34m(program, arguments, working_dir, **kwargs)\u001b[0m\n\u001b[1;32m    135\u001b[0m         \u001b[0mstdout\u001b[0m\u001b[0;34m=\u001b[0m\u001b[0msubprocess\u001b[0m\u001b[0;34m.\u001b[0m\u001b[0mPIPE\u001b[0m\u001b[0;34m,\u001b[0m\u001b[0;34m\u001b[0m\u001b[0m\n\u001b[0;32m--> 136\u001b[0;31m         \u001b[0;34m**\u001b[0m\u001b[0mkwargs\u001b[0m\u001b[0;34m\u001b[0m\u001b[0m\n\u001b[0m\u001b[1;32m    137\u001b[0m     )\n",
      "\u001b[0;32m/Users/anand/anaconda/lib/python3.6/subprocess.py\u001b[0m in \u001b[0;36m__init__\u001b[0;34m(self, args, bufsize, executable, stdin, stdout, stderr, preexec_fn, close_fds, shell, cwd, env, universal_newlines, startupinfo, creationflags, restore_signals, start_new_session, pass_fds, encoding, errors)\u001b[0m\n\u001b[1;32m    706\u001b[0m                                 \u001b[0merrread\u001b[0m\u001b[0;34m,\u001b[0m \u001b[0merrwrite\u001b[0m\u001b[0;34m,\u001b[0m\u001b[0;34m\u001b[0m\u001b[0m\n\u001b[0;32m--> 707\u001b[0;31m                                 restore_signals, start_new_session)\n\u001b[0m\u001b[1;32m    708\u001b[0m         \u001b[0;32mexcept\u001b[0m\u001b[0;34m:\u001b[0m\u001b[0;34m\u001b[0m\u001b[0m\n",
      "\u001b[0;32m/Users/anand/anaconda/lib/python3.6/subprocess.py\u001b[0m in \u001b[0;36m_execute_child\u001b[0;34m(self, args, executable, preexec_fn, close_fds, pass_fds, cwd, env, startupinfo, creationflags, shell, p2cread, p2cwrite, c2pread, c2pwrite, errread, errwrite, restore_signals, start_new_session)\u001b[0m\n\u001b[1;32m   1325\u001b[0m                                 \u001b[0merr_msg\u001b[0m \u001b[0;34m+=\u001b[0m \u001b[0;34m': '\u001b[0m \u001b[0;34m+\u001b[0m \u001b[0mrepr\u001b[0m\u001b[0;34m(\u001b[0m\u001b[0morig_executable\u001b[0m\u001b[0;34m)\u001b[0m\u001b[0;34m\u001b[0m\u001b[0m\n\u001b[0;32m-> 1326\u001b[0;31m                     \u001b[0;32mraise\u001b[0m \u001b[0mchild_exception_type\u001b[0m\u001b[0;34m(\u001b[0m\u001b[0merrno_num\u001b[0m\u001b[0;34m,\u001b[0m \u001b[0merr_msg\u001b[0m\u001b[0;34m)\u001b[0m\u001b[0;34m\u001b[0m\u001b[0m\n\u001b[0m\u001b[1;32m   1327\u001b[0m                 \u001b[0;32mraise\u001b[0m \u001b[0mchild_exception_type\u001b[0m\u001b[0;34m(\u001b[0m\u001b[0merr_msg\u001b[0m\u001b[0;34m)\u001b[0m\u001b[0;34m\u001b[0m\u001b[0m\n",
      "\u001b[0;31mFileNotFoundError\u001b[0m: [Errno 2] No such file or directory: 'dot'",
      "\nDuring handling of the above exception, another exception occurred:\n",
      "\u001b[0;31mFileNotFoundError\u001b[0m                         Traceback (most recent call last)",
      "\u001b[0;32m<ipython-input-108-26940ec4cd5a>\u001b[0m in \u001b[0;36m<module>\u001b[0;34m()\u001b[0m\n\u001b[1;32m      1\u001b[0m \u001b[0mfeatures\u001b[0m \u001b[0;34m=\u001b[0m \u001b[0mX\u001b[0m\u001b[0;34m.\u001b[0m\u001b[0mcolumns\u001b[0m\u001b[0;34m\u001b[0m\u001b[0m\n\u001b[0;32m----> 2\u001b[0;31m \u001b[0mdecision_tree_with_pruning\u001b[0m\u001b[0;34m(\u001b[0m\u001b[0mclf_grid\u001b[0m\u001b[0;34m,\u001b[0m\u001b[0mX\u001b[0m\u001b[0;34m,\u001b[0m\u001b[0my\u001b[0m\u001b[0;34m,\u001b[0m \u001b[0mfeatures\u001b[0m\u001b[0;34m,\u001b[0m \u001b[0;34m'Mktg_CLV_Tree_exported5'\u001b[0m\u001b[0;34m)\u001b[0m\u001b[0;34m\u001b[0m\u001b[0m\n\u001b[0m",
      "\u001b[0;32m<ipython-input-106-ab4c4b7b41e3>\u001b[0m in \u001b[0;36mdecision_tree_with_pruning\u001b[0;34m(clf_grid, X, y, flist, file_name)\u001b[0m\n\u001b[1;32m     14\u001b[0m                     filled = True, rounded = True)\n\u001b[1;32m     15\u001b[0m     \u001b[0;34m(\u001b[0m\u001b[0mgraph\u001b[0m\u001b[0;34m,\u001b[0m\u001b[0;34m)\u001b[0m \u001b[0;34m=\u001b[0m \u001b[0mpydot\u001b[0m\u001b[0;34m.\u001b[0m\u001b[0mgraph_from_dot_file\u001b[0m\u001b[0;34m(\u001b[0m\u001b[0;34m\"/Users/anand/Documents/GL_Guru/\"\u001b[0m\u001b[0;34m+\u001b[0m\u001b[0mfile_name_dot\u001b[0m\u001b[0;34m)\u001b[0m\u001b[0;34m\u001b[0m\u001b[0m\n\u001b[0;32m---> 16\u001b[0;31m     \u001b[0mgraph\u001b[0m\u001b[0;34m.\u001b[0m\u001b[0mwrite_png\u001b[0m\u001b[0;34m(\u001b[0m\u001b[0mfile_name_png\u001b[0m\u001b[0;34m)\u001b[0m\u001b[0;34m\u001b[0m\u001b[0m\n\u001b[0m\u001b[1;32m     17\u001b[0m     \u001b[0;32mreturn\u001b[0m \u001b[0mImage\u001b[0m\u001b[0;34m(\u001b[0m\u001b[0mfile_name_png\u001b[0m\u001b[0;34m)\u001b[0m\u001b[0;34m\u001b[0m\u001b[0m\n",
      "\u001b[0;32m/Users/anand/anaconda/lib/python3.6/site-packages/pydot.py\u001b[0m in \u001b[0;36mnew_method\u001b[0;34m(path, f, prog, encoding)\u001b[0m\n\u001b[1;32m   1732\u001b[0m                 self.write(\n\u001b[1;32m   1733\u001b[0m                     \u001b[0mpath\u001b[0m\u001b[0;34m,\u001b[0m \u001b[0mformat\u001b[0m\u001b[0;34m=\u001b[0m\u001b[0mf\u001b[0m\u001b[0;34m,\u001b[0m \u001b[0mprog\u001b[0m\u001b[0;34m=\u001b[0m\u001b[0mprog\u001b[0m\u001b[0;34m,\u001b[0m\u001b[0;34m\u001b[0m\u001b[0m\n\u001b[0;32m-> 1734\u001b[0;31m                     encoding=encoding)\n\u001b[0m\u001b[1;32m   1735\u001b[0m             \u001b[0mname\u001b[0m \u001b[0;34m=\u001b[0m \u001b[0;34m'write_{fmt}'\u001b[0m\u001b[0;34m.\u001b[0m\u001b[0mformat\u001b[0m\u001b[0;34m(\u001b[0m\u001b[0mfmt\u001b[0m\u001b[0;34m=\u001b[0m\u001b[0mfrmt\u001b[0m\u001b[0;34m)\u001b[0m\u001b[0;34m\u001b[0m\u001b[0m\n\u001b[1;32m   1736\u001b[0m             \u001b[0mself\u001b[0m\u001b[0;34m.\u001b[0m\u001b[0m__setattr__\u001b[0m\u001b[0;34m(\u001b[0m\u001b[0mname\u001b[0m\u001b[0;34m,\u001b[0m \u001b[0mnew_method\u001b[0m\u001b[0;34m)\u001b[0m\u001b[0;34m\u001b[0m\u001b[0m\n",
      "\u001b[0;32m/Users/anand/anaconda/lib/python3.6/site-packages/pydot.py\u001b[0m in \u001b[0;36mwrite\u001b[0;34m(self, path, prog, format, encoding)\u001b[0m\n\u001b[1;32m   1815\u001b[0m                 \u001b[0mf\u001b[0m\u001b[0;34m.\u001b[0m\u001b[0mwrite\u001b[0m\u001b[0;34m(\u001b[0m\u001b[0ms\u001b[0m\u001b[0;34m)\u001b[0m\u001b[0;34m\u001b[0m\u001b[0m\n\u001b[1;32m   1816\u001b[0m         \u001b[0;32melse\u001b[0m\u001b[0;34m:\u001b[0m\u001b[0;34m\u001b[0m\u001b[0m\n\u001b[0;32m-> 1817\u001b[0;31m             \u001b[0ms\u001b[0m \u001b[0;34m=\u001b[0m \u001b[0mself\u001b[0m\u001b[0;34m.\u001b[0m\u001b[0mcreate\u001b[0m\u001b[0;34m(\u001b[0m\u001b[0mprog\u001b[0m\u001b[0;34m,\u001b[0m \u001b[0mformat\u001b[0m\u001b[0;34m,\u001b[0m \u001b[0mencoding\u001b[0m\u001b[0;34m=\u001b[0m\u001b[0mencoding\u001b[0m\u001b[0;34m)\u001b[0m\u001b[0;34m\u001b[0m\u001b[0m\n\u001b[0m\u001b[1;32m   1818\u001b[0m             \u001b[0;32mwith\u001b[0m \u001b[0mio\u001b[0m\u001b[0;34m.\u001b[0m\u001b[0mopen\u001b[0m\u001b[0;34m(\u001b[0m\u001b[0mpath\u001b[0m\u001b[0;34m,\u001b[0m \u001b[0mmode\u001b[0m\u001b[0;34m=\u001b[0m\u001b[0;34m'wb'\u001b[0m\u001b[0;34m)\u001b[0m \u001b[0;32mas\u001b[0m \u001b[0mf\u001b[0m\u001b[0;34m:\u001b[0m\u001b[0;34m\u001b[0m\u001b[0m\n\u001b[1;32m   1819\u001b[0m                 \u001b[0mf\u001b[0m\u001b[0;34m.\u001b[0m\u001b[0mwrite\u001b[0m\u001b[0;34m(\u001b[0m\u001b[0ms\u001b[0m\u001b[0;34m)\u001b[0m\u001b[0;34m\u001b[0m\u001b[0m\n",
      "\u001b[0;32m/Users/anand/anaconda/lib/python3.6/site-packages/pydot.py\u001b[0m in \u001b[0;36mcreate\u001b[0;34m(self, prog, format, encoding)\u001b[0m\n\u001b[1;32m   1920\u001b[0m                 args[1] = '\"{prog}\" not found in path.'.format(\n\u001b[1;32m   1921\u001b[0m                     prog=prog)\n\u001b[0;32m-> 1922\u001b[0;31m                 \u001b[0;32mraise\u001b[0m \u001b[0mOSError\u001b[0m\u001b[0;34m(\u001b[0m\u001b[0;34m*\u001b[0m\u001b[0margs\u001b[0m\u001b[0;34m)\u001b[0m\u001b[0;34m\u001b[0m\u001b[0m\n\u001b[0m\u001b[1;32m   1923\u001b[0m             \u001b[0;32melse\u001b[0m\u001b[0;34m:\u001b[0m\u001b[0;34m\u001b[0m\u001b[0m\n\u001b[1;32m   1924\u001b[0m                 \u001b[0;32mraise\u001b[0m\u001b[0;34m\u001b[0m\u001b[0m\n",
      "\u001b[0;31mFileNotFoundError\u001b[0m: [Errno 2] \"dot\" not found in path."
     ]
    }
   ],
   "source": [
    "features = X.columns\n",
    "decision_tree_with_pruning(clf_grid,X,y, features, 'Mktg_CLV_Tree_exported5')"
   ]
  },
  {
   "cell_type": "code",
   "execution_count": 95,
   "metadata": {
    "collapsed": false
   },
   "outputs": [
    {
     "data": {
      "text/plain": [
       "Index(['State', 'Customer Lifetime Value', 'Coverage', 'Education',\n",
       "       'EmploymentStatus', 'Gender', 'Income', 'Location Code',\n",
       "       'Marital Status', 'Monthly Premium Auto', 'Months Since Last Claim',\n",
       "       'Months Since Policy Inception', 'Number of Open Complaints',\n",
       "       'Number of Policies', 'Policy Type', 'Policy', 'Renew Offer Type',\n",
       "       'Sales Channel', 'Total Claim Amount', 'Vehicle Class', 'Vehicle Size'],\n",
       "      dtype='object')"
      ]
     },
     "execution_count": 95,
     "metadata": {},
     "output_type": "execute_result"
    }
   ],
   "source": [
    "X.columns"
   ]
  },
  {
   "cell_type": "code",
   "execution_count": null,
   "metadata": {
    "collapsed": true
   },
   "outputs": [],
   "source": []
  }
 ],
 "metadata": {
  "kernelspec": {
   "display_name": "Python 3",
   "language": "python",
   "name": "python3"
  },
  "language_info": {
   "codemirror_mode": {
    "name": "ipython",
    "version": 3
   },
   "file_extension": ".py",
   "mimetype": "text/x-python",
   "name": "python",
   "nbconvert_exporter": "python",
   "pygments_lexer": "ipython3",
   "version": "3.6.0"
  }
 },
 "nbformat": 4,
 "nbformat_minor": 2
}
